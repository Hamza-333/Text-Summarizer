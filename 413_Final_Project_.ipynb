{
  "nbformat": 4,
  "nbformat_minor": 0,
  "metadata": {
    "colab": {
      "provenance": [],
      "machine_shape": "hm",
      "authorship_tag": "ABX9TyP6IHAR/uivkxLWnDrLhluw",
      "include_colab_link": true
    },
    "kernelspec": {
      "name": "python3",
      "display_name": "Python 3"
    },
    "language_info": {
      "name": "python"
    },
    "gpuClass": "standard",
    "accelerator": "GPU",
    "widgets": {
      "application/vnd.jupyter.widget-state+json": {
        "5b250ce88b8b4bfa8af9ea437f5f34ff": {
          "model_module": "@jupyter-widgets/controls",
          "model_name": "HBoxModel",
          "model_module_version": "1.5.0",
          "state": {
            "_dom_classes": [],
            "_model_module": "@jupyter-widgets/controls",
            "_model_module_version": "1.5.0",
            "_model_name": "HBoxModel",
            "_view_count": null,
            "_view_module": "@jupyter-widgets/controls",
            "_view_module_version": "1.5.0",
            "_view_name": "HBoxView",
            "box_style": "",
            "children": [
              "IPY_MODEL_90d187badcfa4b819b372d3cd68adfde",
              "IPY_MODEL_bf1b0e3df6644773b8c8e128c25fcfc1",
              "IPY_MODEL_b2961897ab9741c191ef6f90aff7c622"
            ],
            "layout": "IPY_MODEL_442b52a4d04d478381c751550074d512"
          }
        },
        "90d187badcfa4b819b372d3cd68adfde": {
          "model_module": "@jupyter-widgets/controls",
          "model_name": "HTMLModel",
          "model_module_version": "1.5.0",
          "state": {
            "_dom_classes": [],
            "_model_module": "@jupyter-widgets/controls",
            "_model_module_version": "1.5.0",
            "_model_name": "HTMLModel",
            "_view_count": null,
            "_view_module": "@jupyter-widgets/controls",
            "_view_module_version": "1.5.0",
            "_view_name": "HTMLView",
            "description": "",
            "description_tooltip": null,
            "layout": "IPY_MODEL_6ad34829b9e64c71a6c890333a74ae7a",
            "placeholder": "​",
            "style": "IPY_MODEL_93422dca8dc244909dc27fa9ae32e9f2",
            "value": "100%"
          }
        },
        "bf1b0e3df6644773b8c8e128c25fcfc1": {
          "model_module": "@jupyter-widgets/controls",
          "model_name": "FloatProgressModel",
          "model_module_version": "1.5.0",
          "state": {
            "_dom_classes": [],
            "_model_module": "@jupyter-widgets/controls",
            "_model_module_version": "1.5.0",
            "_model_name": "FloatProgressModel",
            "_view_count": null,
            "_view_module": "@jupyter-widgets/controls",
            "_view_module_version": "1.5.0",
            "_view_name": "ProgressView",
            "bar_style": "success",
            "description": "",
            "description_tooltip": null,
            "layout": "IPY_MODEL_d0c97ec572cc4fca8515beeca0f91668",
            "max": 3,
            "min": 0,
            "orientation": "horizontal",
            "style": "IPY_MODEL_3ead30b9501f495cb99cb6d831f1e2db",
            "value": 3
          }
        },
        "b2961897ab9741c191ef6f90aff7c622": {
          "model_module": "@jupyter-widgets/controls",
          "model_name": "HTMLModel",
          "model_module_version": "1.5.0",
          "state": {
            "_dom_classes": [],
            "_model_module": "@jupyter-widgets/controls",
            "_model_module_version": "1.5.0",
            "_model_name": "HTMLModel",
            "_view_count": null,
            "_view_module": "@jupyter-widgets/controls",
            "_view_module_version": "1.5.0",
            "_view_name": "HTMLView",
            "description": "",
            "description_tooltip": null,
            "layout": "IPY_MODEL_09709b085a0f4c8fae6bb946f074ed18",
            "placeholder": "​",
            "style": "IPY_MODEL_709b0c625c30403d86afc41d52cb8531",
            "value": " 3/3 [00:02&lt;00:00,  1.05s/it]"
          }
        },
        "442b52a4d04d478381c751550074d512": {
          "model_module": "@jupyter-widgets/base",
          "model_name": "LayoutModel",
          "model_module_version": "1.2.0",
          "state": {
            "_model_module": "@jupyter-widgets/base",
            "_model_module_version": "1.2.0",
            "_model_name": "LayoutModel",
            "_view_count": null,
            "_view_module": "@jupyter-widgets/base",
            "_view_module_version": "1.2.0",
            "_view_name": "LayoutView",
            "align_content": null,
            "align_items": null,
            "align_self": null,
            "border": null,
            "bottom": null,
            "display": null,
            "flex": null,
            "flex_flow": null,
            "grid_area": null,
            "grid_auto_columns": null,
            "grid_auto_flow": null,
            "grid_auto_rows": null,
            "grid_column": null,
            "grid_gap": null,
            "grid_row": null,
            "grid_template_areas": null,
            "grid_template_columns": null,
            "grid_template_rows": null,
            "height": null,
            "justify_content": null,
            "justify_items": null,
            "left": null,
            "margin": null,
            "max_height": null,
            "max_width": null,
            "min_height": null,
            "min_width": null,
            "object_fit": null,
            "object_position": null,
            "order": null,
            "overflow": null,
            "overflow_x": null,
            "overflow_y": null,
            "padding": null,
            "right": null,
            "top": null,
            "visibility": null,
            "width": null
          }
        },
        "6ad34829b9e64c71a6c890333a74ae7a": {
          "model_module": "@jupyter-widgets/base",
          "model_name": "LayoutModel",
          "model_module_version": "1.2.0",
          "state": {
            "_model_module": "@jupyter-widgets/base",
            "_model_module_version": "1.2.0",
            "_model_name": "LayoutModel",
            "_view_count": null,
            "_view_module": "@jupyter-widgets/base",
            "_view_module_version": "1.2.0",
            "_view_name": "LayoutView",
            "align_content": null,
            "align_items": null,
            "align_self": null,
            "border": null,
            "bottom": null,
            "display": null,
            "flex": null,
            "flex_flow": null,
            "grid_area": null,
            "grid_auto_columns": null,
            "grid_auto_flow": null,
            "grid_auto_rows": null,
            "grid_column": null,
            "grid_gap": null,
            "grid_row": null,
            "grid_template_areas": null,
            "grid_template_columns": null,
            "grid_template_rows": null,
            "height": null,
            "justify_content": null,
            "justify_items": null,
            "left": null,
            "margin": null,
            "max_height": null,
            "max_width": null,
            "min_height": null,
            "min_width": null,
            "object_fit": null,
            "object_position": null,
            "order": null,
            "overflow": null,
            "overflow_x": null,
            "overflow_y": null,
            "padding": null,
            "right": null,
            "top": null,
            "visibility": null,
            "width": null
          }
        },
        "93422dca8dc244909dc27fa9ae32e9f2": {
          "model_module": "@jupyter-widgets/controls",
          "model_name": "DescriptionStyleModel",
          "model_module_version": "1.5.0",
          "state": {
            "_model_module": "@jupyter-widgets/controls",
            "_model_module_version": "1.5.0",
            "_model_name": "DescriptionStyleModel",
            "_view_count": null,
            "_view_module": "@jupyter-widgets/base",
            "_view_module_version": "1.2.0",
            "_view_name": "StyleView",
            "description_width": ""
          }
        },
        "d0c97ec572cc4fca8515beeca0f91668": {
          "model_module": "@jupyter-widgets/base",
          "model_name": "LayoutModel",
          "model_module_version": "1.2.0",
          "state": {
            "_model_module": "@jupyter-widgets/base",
            "_model_module_version": "1.2.0",
            "_model_name": "LayoutModel",
            "_view_count": null,
            "_view_module": "@jupyter-widgets/base",
            "_view_module_version": "1.2.0",
            "_view_name": "LayoutView",
            "align_content": null,
            "align_items": null,
            "align_self": null,
            "border": null,
            "bottom": null,
            "display": null,
            "flex": null,
            "flex_flow": null,
            "grid_area": null,
            "grid_auto_columns": null,
            "grid_auto_flow": null,
            "grid_auto_rows": null,
            "grid_column": null,
            "grid_gap": null,
            "grid_row": null,
            "grid_template_areas": null,
            "grid_template_columns": null,
            "grid_template_rows": null,
            "height": null,
            "justify_content": null,
            "justify_items": null,
            "left": null,
            "margin": null,
            "max_height": null,
            "max_width": null,
            "min_height": null,
            "min_width": null,
            "object_fit": null,
            "object_position": null,
            "order": null,
            "overflow": null,
            "overflow_x": null,
            "overflow_y": null,
            "padding": null,
            "right": null,
            "top": null,
            "visibility": null,
            "width": null
          }
        },
        "3ead30b9501f495cb99cb6d831f1e2db": {
          "model_module": "@jupyter-widgets/controls",
          "model_name": "ProgressStyleModel",
          "model_module_version": "1.5.0",
          "state": {
            "_model_module": "@jupyter-widgets/controls",
            "_model_module_version": "1.5.0",
            "_model_name": "ProgressStyleModel",
            "_view_count": null,
            "_view_module": "@jupyter-widgets/base",
            "_view_module_version": "1.2.0",
            "_view_name": "StyleView",
            "bar_color": null,
            "description_width": ""
          }
        },
        "09709b085a0f4c8fae6bb946f074ed18": {
          "model_module": "@jupyter-widgets/base",
          "model_name": "LayoutModel",
          "model_module_version": "1.2.0",
          "state": {
            "_model_module": "@jupyter-widgets/base",
            "_model_module_version": "1.2.0",
            "_model_name": "LayoutModel",
            "_view_count": null,
            "_view_module": "@jupyter-widgets/base",
            "_view_module_version": "1.2.0",
            "_view_name": "LayoutView",
            "align_content": null,
            "align_items": null,
            "align_self": null,
            "border": null,
            "bottom": null,
            "display": null,
            "flex": null,
            "flex_flow": null,
            "grid_area": null,
            "grid_auto_columns": null,
            "grid_auto_flow": null,
            "grid_auto_rows": null,
            "grid_column": null,
            "grid_gap": null,
            "grid_row": null,
            "grid_template_areas": null,
            "grid_template_columns": null,
            "grid_template_rows": null,
            "height": null,
            "justify_content": null,
            "justify_items": null,
            "left": null,
            "margin": null,
            "max_height": null,
            "max_width": null,
            "min_height": null,
            "min_width": null,
            "object_fit": null,
            "object_position": null,
            "order": null,
            "overflow": null,
            "overflow_x": null,
            "overflow_y": null,
            "padding": null,
            "right": null,
            "top": null,
            "visibility": null,
            "width": null
          }
        },
        "709b0c625c30403d86afc41d52cb8531": {
          "model_module": "@jupyter-widgets/controls",
          "model_name": "DescriptionStyleModel",
          "model_module_version": "1.5.0",
          "state": {
            "_model_module": "@jupyter-widgets/controls",
            "_model_module_version": "1.5.0",
            "_model_name": "DescriptionStyleModel",
            "_view_count": null,
            "_view_module": "@jupyter-widgets/base",
            "_view_module_version": "1.2.0",
            "_view_name": "StyleView",
            "description_width": ""
          }
        },
        "c8932d3d9e3a45c1be1c775b6e3c9448": {
          "model_module": "@jupyter-widgets/controls",
          "model_name": "HBoxModel",
          "model_module_version": "1.5.0",
          "state": {
            "_dom_classes": [],
            "_model_module": "@jupyter-widgets/controls",
            "_model_module_version": "1.5.0",
            "_model_name": "HBoxModel",
            "_view_count": null,
            "_view_module": "@jupyter-widgets/controls",
            "_view_module_version": "1.5.0",
            "_view_name": "HBoxView",
            "box_style": "",
            "children": [
              "IPY_MODEL_eb7267406d7e4edfa7be3a22496420bc",
              "IPY_MODEL_b4dfcdad2f7b4609a0a347ebe1593060",
              "IPY_MODEL_f9dfa617057f4abd981e332098016c76"
            ],
            "layout": "IPY_MODEL_74202404330f46cc94284c83b68d6384"
          }
        },
        "eb7267406d7e4edfa7be3a22496420bc": {
          "model_module": "@jupyter-widgets/controls",
          "model_name": "HTMLModel",
          "model_module_version": "1.5.0",
          "state": {
            "_dom_classes": [],
            "_model_module": "@jupyter-widgets/controls",
            "_model_module_version": "1.5.0",
            "_model_name": "HTMLModel",
            "_view_count": null,
            "_view_module": "@jupyter-widgets/controls",
            "_view_module_version": "1.5.0",
            "_view_name": "HTMLView",
            "description": "",
            "description_tooltip": null,
            "layout": "IPY_MODEL_723769411b3c47abbdbb78d2b55b4457",
            "placeholder": "​",
            "style": "IPY_MODEL_caf1aaa958614fe6b81b2ad80d39396a",
            "value": "100%"
          }
        },
        "b4dfcdad2f7b4609a0a347ebe1593060": {
          "model_module": "@jupyter-widgets/controls",
          "model_name": "FloatProgressModel",
          "model_module_version": "1.5.0",
          "state": {
            "_dom_classes": [],
            "_model_module": "@jupyter-widgets/controls",
            "_model_module_version": "1.5.0",
            "_model_name": "FloatProgressModel",
            "_view_count": null,
            "_view_module": "@jupyter-widgets/controls",
            "_view_module_version": "1.5.0",
            "_view_name": "ProgressView",
            "bar_style": "success",
            "description": "",
            "description_tooltip": null,
            "layout": "IPY_MODEL_91e5e65b4ce640acbd50e4488df71108",
            "max": 3,
            "min": 0,
            "orientation": "horizontal",
            "style": "IPY_MODEL_5707aaf8a1a24a7db9e7d4f47098394a",
            "value": 3
          }
        },
        "f9dfa617057f4abd981e332098016c76": {
          "model_module": "@jupyter-widgets/controls",
          "model_name": "HTMLModel",
          "model_module_version": "1.5.0",
          "state": {
            "_dom_classes": [],
            "_model_module": "@jupyter-widgets/controls",
            "_model_module_version": "1.5.0",
            "_model_name": "HTMLModel",
            "_view_count": null,
            "_view_module": "@jupyter-widgets/controls",
            "_view_module_version": "1.5.0",
            "_view_name": "HTMLView",
            "description": "",
            "description_tooltip": null,
            "layout": "IPY_MODEL_78d3108c1ed24b53b39e410f5bdf6292",
            "placeholder": "​",
            "style": "IPY_MODEL_5a75b91e0a964520ad597f733ac3c746",
            "value": " 3/3 [00:00&lt;00:00,  7.27it/s]"
          }
        },
        "74202404330f46cc94284c83b68d6384": {
          "model_module": "@jupyter-widgets/base",
          "model_name": "LayoutModel",
          "model_module_version": "1.2.0",
          "state": {
            "_model_module": "@jupyter-widgets/base",
            "_model_module_version": "1.2.0",
            "_model_name": "LayoutModel",
            "_view_count": null,
            "_view_module": "@jupyter-widgets/base",
            "_view_module_version": "1.2.0",
            "_view_name": "LayoutView",
            "align_content": null,
            "align_items": null,
            "align_self": null,
            "border": null,
            "bottom": null,
            "display": null,
            "flex": null,
            "flex_flow": null,
            "grid_area": null,
            "grid_auto_columns": null,
            "grid_auto_flow": null,
            "grid_auto_rows": null,
            "grid_column": null,
            "grid_gap": null,
            "grid_row": null,
            "grid_template_areas": null,
            "grid_template_columns": null,
            "grid_template_rows": null,
            "height": null,
            "justify_content": null,
            "justify_items": null,
            "left": null,
            "margin": null,
            "max_height": null,
            "max_width": null,
            "min_height": null,
            "min_width": null,
            "object_fit": null,
            "object_position": null,
            "order": null,
            "overflow": null,
            "overflow_x": null,
            "overflow_y": null,
            "padding": null,
            "right": null,
            "top": null,
            "visibility": null,
            "width": null
          }
        },
        "723769411b3c47abbdbb78d2b55b4457": {
          "model_module": "@jupyter-widgets/base",
          "model_name": "LayoutModel",
          "model_module_version": "1.2.0",
          "state": {
            "_model_module": "@jupyter-widgets/base",
            "_model_module_version": "1.2.0",
            "_model_name": "LayoutModel",
            "_view_count": null,
            "_view_module": "@jupyter-widgets/base",
            "_view_module_version": "1.2.0",
            "_view_name": "LayoutView",
            "align_content": null,
            "align_items": null,
            "align_self": null,
            "border": null,
            "bottom": null,
            "display": null,
            "flex": null,
            "flex_flow": null,
            "grid_area": null,
            "grid_auto_columns": null,
            "grid_auto_flow": null,
            "grid_auto_rows": null,
            "grid_column": null,
            "grid_gap": null,
            "grid_row": null,
            "grid_template_areas": null,
            "grid_template_columns": null,
            "grid_template_rows": null,
            "height": null,
            "justify_content": null,
            "justify_items": null,
            "left": null,
            "margin": null,
            "max_height": null,
            "max_width": null,
            "min_height": null,
            "min_width": null,
            "object_fit": null,
            "object_position": null,
            "order": null,
            "overflow": null,
            "overflow_x": null,
            "overflow_y": null,
            "padding": null,
            "right": null,
            "top": null,
            "visibility": null,
            "width": null
          }
        },
        "caf1aaa958614fe6b81b2ad80d39396a": {
          "model_module": "@jupyter-widgets/controls",
          "model_name": "DescriptionStyleModel",
          "model_module_version": "1.5.0",
          "state": {
            "_model_module": "@jupyter-widgets/controls",
            "_model_module_version": "1.5.0",
            "_model_name": "DescriptionStyleModel",
            "_view_count": null,
            "_view_module": "@jupyter-widgets/base",
            "_view_module_version": "1.2.0",
            "_view_name": "StyleView",
            "description_width": ""
          }
        },
        "91e5e65b4ce640acbd50e4488df71108": {
          "model_module": "@jupyter-widgets/base",
          "model_name": "LayoutModel",
          "model_module_version": "1.2.0",
          "state": {
            "_model_module": "@jupyter-widgets/base",
            "_model_module_version": "1.2.0",
            "_model_name": "LayoutModel",
            "_view_count": null,
            "_view_module": "@jupyter-widgets/base",
            "_view_module_version": "1.2.0",
            "_view_name": "LayoutView",
            "align_content": null,
            "align_items": null,
            "align_self": null,
            "border": null,
            "bottom": null,
            "display": null,
            "flex": null,
            "flex_flow": null,
            "grid_area": null,
            "grid_auto_columns": null,
            "grid_auto_flow": null,
            "grid_auto_rows": null,
            "grid_column": null,
            "grid_gap": null,
            "grid_row": null,
            "grid_template_areas": null,
            "grid_template_columns": null,
            "grid_template_rows": null,
            "height": null,
            "justify_content": null,
            "justify_items": null,
            "left": null,
            "margin": null,
            "max_height": null,
            "max_width": null,
            "min_height": null,
            "min_width": null,
            "object_fit": null,
            "object_position": null,
            "order": null,
            "overflow": null,
            "overflow_x": null,
            "overflow_y": null,
            "padding": null,
            "right": null,
            "top": null,
            "visibility": null,
            "width": null
          }
        },
        "5707aaf8a1a24a7db9e7d4f47098394a": {
          "model_module": "@jupyter-widgets/controls",
          "model_name": "ProgressStyleModel",
          "model_module_version": "1.5.0",
          "state": {
            "_model_module": "@jupyter-widgets/controls",
            "_model_module_version": "1.5.0",
            "_model_name": "ProgressStyleModel",
            "_view_count": null,
            "_view_module": "@jupyter-widgets/base",
            "_view_module_version": "1.2.0",
            "_view_name": "StyleView",
            "bar_color": null,
            "description_width": ""
          }
        },
        "78d3108c1ed24b53b39e410f5bdf6292": {
          "model_module": "@jupyter-widgets/base",
          "model_name": "LayoutModel",
          "model_module_version": "1.2.0",
          "state": {
            "_model_module": "@jupyter-widgets/base",
            "_model_module_version": "1.2.0",
            "_model_name": "LayoutModel",
            "_view_count": null,
            "_view_module": "@jupyter-widgets/base",
            "_view_module_version": "1.2.0",
            "_view_name": "LayoutView",
            "align_content": null,
            "align_items": null,
            "align_self": null,
            "border": null,
            "bottom": null,
            "display": null,
            "flex": null,
            "flex_flow": null,
            "grid_area": null,
            "grid_auto_columns": null,
            "grid_auto_flow": null,
            "grid_auto_rows": null,
            "grid_column": null,
            "grid_gap": null,
            "grid_row": null,
            "grid_template_areas": null,
            "grid_template_columns": null,
            "grid_template_rows": null,
            "height": null,
            "justify_content": null,
            "justify_items": null,
            "left": null,
            "margin": null,
            "max_height": null,
            "max_width": null,
            "min_height": null,
            "min_width": null,
            "object_fit": null,
            "object_position": null,
            "order": null,
            "overflow": null,
            "overflow_x": null,
            "overflow_y": null,
            "padding": null,
            "right": null,
            "top": null,
            "visibility": null,
            "width": null
          }
        },
        "5a75b91e0a964520ad597f733ac3c746": {
          "model_module": "@jupyter-widgets/controls",
          "model_name": "DescriptionStyleModel",
          "model_module_version": "1.5.0",
          "state": {
            "_model_module": "@jupyter-widgets/controls",
            "_model_module_version": "1.5.0",
            "_model_name": "DescriptionStyleModel",
            "_view_count": null,
            "_view_module": "@jupyter-widgets/base",
            "_view_module_version": "1.2.0",
            "_view_name": "StyleView",
            "description_width": ""
          }
        },
        "a75c53d7b0d14552b806b3b5fc884ebc": {
          "model_module": "@jupyter-widgets/controls",
          "model_name": "HBoxModel",
          "model_module_version": "1.5.0",
          "state": {
            "_dom_classes": [],
            "_model_module": "@jupyter-widgets/controls",
            "_model_module_version": "1.5.0",
            "_model_name": "HBoxModel",
            "_view_count": null,
            "_view_module": "@jupyter-widgets/controls",
            "_view_module_version": "1.5.0",
            "_view_name": "HBoxView",
            "box_style": "",
            "children": [
              "IPY_MODEL_3f6b2dfccc4145ca9dd91d3fbec0d6a2",
              "IPY_MODEL_258edc3beea1434ab6b71e7e528657f1",
              "IPY_MODEL_64c1a69dd3a04a57bed5bcf9d5b4cb14"
            ],
            "layout": "IPY_MODEL_381e47a9be994b6ba0d96e6111093a38"
          }
        },
        "3f6b2dfccc4145ca9dd91d3fbec0d6a2": {
          "model_module": "@jupyter-widgets/controls",
          "model_name": "HTMLModel",
          "model_module_version": "1.5.0",
          "state": {
            "_dom_classes": [],
            "_model_module": "@jupyter-widgets/controls",
            "_model_module_version": "1.5.0",
            "_model_name": "HTMLModel",
            "_view_count": null,
            "_view_module": "@jupyter-widgets/controls",
            "_view_module_version": "1.5.0",
            "_view_name": "HTMLView",
            "description": "",
            "description_tooltip": null,
            "layout": "IPY_MODEL_ba408c7dc3de40c798c0b86b8549e154",
            "placeholder": "​",
            "style": "IPY_MODEL_0da9429cee7d424590a261a112d2281a",
            "value": "100%"
          }
        },
        "258edc3beea1434ab6b71e7e528657f1": {
          "model_module": "@jupyter-widgets/controls",
          "model_name": "FloatProgressModel",
          "model_module_version": "1.5.0",
          "state": {
            "_dom_classes": [],
            "_model_module": "@jupyter-widgets/controls",
            "_model_module_version": "1.5.0",
            "_model_name": "FloatProgressModel",
            "_view_count": null,
            "_view_module": "@jupyter-widgets/controls",
            "_view_module_version": "1.5.0",
            "_view_name": "ProgressView",
            "bar_style": "success",
            "description": "",
            "description_tooltip": null,
            "layout": "IPY_MODEL_6fceb49d62fe40a5b901d9b276615bd8",
            "max": 3,
            "min": 0,
            "orientation": "horizontal",
            "style": "IPY_MODEL_aab7f390528a4626ba615b04343ce6d9",
            "value": 3
          }
        },
        "64c1a69dd3a04a57bed5bcf9d5b4cb14": {
          "model_module": "@jupyter-widgets/controls",
          "model_name": "HTMLModel",
          "model_module_version": "1.5.0",
          "state": {
            "_dom_classes": [],
            "_model_module": "@jupyter-widgets/controls",
            "_model_module_version": "1.5.0",
            "_model_name": "HTMLModel",
            "_view_count": null,
            "_view_module": "@jupyter-widgets/controls",
            "_view_module_version": "1.5.0",
            "_view_name": "HTMLView",
            "description": "",
            "description_tooltip": null,
            "layout": "IPY_MODEL_4073401b12b9438e8119ea787e00a286",
            "placeholder": "​",
            "style": "IPY_MODEL_88a100916d1543e7b9ade0a620a89c7b",
            "value": " 3/3 [00:04&lt;00:00,  1.77s/it]"
          }
        },
        "381e47a9be994b6ba0d96e6111093a38": {
          "model_module": "@jupyter-widgets/base",
          "model_name": "LayoutModel",
          "model_module_version": "1.2.0",
          "state": {
            "_model_module": "@jupyter-widgets/base",
            "_model_module_version": "1.2.0",
            "_model_name": "LayoutModel",
            "_view_count": null,
            "_view_module": "@jupyter-widgets/base",
            "_view_module_version": "1.2.0",
            "_view_name": "LayoutView",
            "align_content": null,
            "align_items": null,
            "align_self": null,
            "border": null,
            "bottom": null,
            "display": null,
            "flex": null,
            "flex_flow": null,
            "grid_area": null,
            "grid_auto_columns": null,
            "grid_auto_flow": null,
            "grid_auto_rows": null,
            "grid_column": null,
            "grid_gap": null,
            "grid_row": null,
            "grid_template_areas": null,
            "grid_template_columns": null,
            "grid_template_rows": null,
            "height": null,
            "justify_content": null,
            "justify_items": null,
            "left": null,
            "margin": null,
            "max_height": null,
            "max_width": null,
            "min_height": null,
            "min_width": null,
            "object_fit": null,
            "object_position": null,
            "order": null,
            "overflow": null,
            "overflow_x": null,
            "overflow_y": null,
            "padding": null,
            "right": null,
            "top": null,
            "visibility": null,
            "width": null
          }
        },
        "ba408c7dc3de40c798c0b86b8549e154": {
          "model_module": "@jupyter-widgets/base",
          "model_name": "LayoutModel",
          "model_module_version": "1.2.0",
          "state": {
            "_model_module": "@jupyter-widgets/base",
            "_model_module_version": "1.2.0",
            "_model_name": "LayoutModel",
            "_view_count": null,
            "_view_module": "@jupyter-widgets/base",
            "_view_module_version": "1.2.0",
            "_view_name": "LayoutView",
            "align_content": null,
            "align_items": null,
            "align_self": null,
            "border": null,
            "bottom": null,
            "display": null,
            "flex": null,
            "flex_flow": null,
            "grid_area": null,
            "grid_auto_columns": null,
            "grid_auto_flow": null,
            "grid_auto_rows": null,
            "grid_column": null,
            "grid_gap": null,
            "grid_row": null,
            "grid_template_areas": null,
            "grid_template_columns": null,
            "grid_template_rows": null,
            "height": null,
            "justify_content": null,
            "justify_items": null,
            "left": null,
            "margin": null,
            "max_height": null,
            "max_width": null,
            "min_height": null,
            "min_width": null,
            "object_fit": null,
            "object_position": null,
            "order": null,
            "overflow": null,
            "overflow_x": null,
            "overflow_y": null,
            "padding": null,
            "right": null,
            "top": null,
            "visibility": null,
            "width": null
          }
        },
        "0da9429cee7d424590a261a112d2281a": {
          "model_module": "@jupyter-widgets/controls",
          "model_name": "DescriptionStyleModel",
          "model_module_version": "1.5.0",
          "state": {
            "_model_module": "@jupyter-widgets/controls",
            "_model_module_version": "1.5.0",
            "_model_name": "DescriptionStyleModel",
            "_view_count": null,
            "_view_module": "@jupyter-widgets/base",
            "_view_module_version": "1.2.0",
            "_view_name": "StyleView",
            "description_width": ""
          }
        },
        "6fceb49d62fe40a5b901d9b276615bd8": {
          "model_module": "@jupyter-widgets/base",
          "model_name": "LayoutModel",
          "model_module_version": "1.2.0",
          "state": {
            "_model_module": "@jupyter-widgets/base",
            "_model_module_version": "1.2.0",
            "_model_name": "LayoutModel",
            "_view_count": null,
            "_view_module": "@jupyter-widgets/base",
            "_view_module_version": "1.2.0",
            "_view_name": "LayoutView",
            "align_content": null,
            "align_items": null,
            "align_self": null,
            "border": null,
            "bottom": null,
            "display": null,
            "flex": null,
            "flex_flow": null,
            "grid_area": null,
            "grid_auto_columns": null,
            "grid_auto_flow": null,
            "grid_auto_rows": null,
            "grid_column": null,
            "grid_gap": null,
            "grid_row": null,
            "grid_template_areas": null,
            "grid_template_columns": null,
            "grid_template_rows": null,
            "height": null,
            "justify_content": null,
            "justify_items": null,
            "left": null,
            "margin": null,
            "max_height": null,
            "max_width": null,
            "min_height": null,
            "min_width": null,
            "object_fit": null,
            "object_position": null,
            "order": null,
            "overflow": null,
            "overflow_x": null,
            "overflow_y": null,
            "padding": null,
            "right": null,
            "top": null,
            "visibility": null,
            "width": null
          }
        },
        "aab7f390528a4626ba615b04343ce6d9": {
          "model_module": "@jupyter-widgets/controls",
          "model_name": "ProgressStyleModel",
          "model_module_version": "1.5.0",
          "state": {
            "_model_module": "@jupyter-widgets/controls",
            "_model_module_version": "1.5.0",
            "_model_name": "ProgressStyleModel",
            "_view_count": null,
            "_view_module": "@jupyter-widgets/base",
            "_view_module_version": "1.2.0",
            "_view_name": "StyleView",
            "bar_color": null,
            "description_width": ""
          }
        },
        "4073401b12b9438e8119ea787e00a286": {
          "model_module": "@jupyter-widgets/base",
          "model_name": "LayoutModel",
          "model_module_version": "1.2.0",
          "state": {
            "_model_module": "@jupyter-widgets/base",
            "_model_module_version": "1.2.0",
            "_model_name": "LayoutModel",
            "_view_count": null,
            "_view_module": "@jupyter-widgets/base",
            "_view_module_version": "1.2.0",
            "_view_name": "LayoutView",
            "align_content": null,
            "align_items": null,
            "align_self": null,
            "border": null,
            "bottom": null,
            "display": null,
            "flex": null,
            "flex_flow": null,
            "grid_area": null,
            "grid_auto_columns": null,
            "grid_auto_flow": null,
            "grid_auto_rows": null,
            "grid_column": null,
            "grid_gap": null,
            "grid_row": null,
            "grid_template_areas": null,
            "grid_template_columns": null,
            "grid_template_rows": null,
            "height": null,
            "justify_content": null,
            "justify_items": null,
            "left": null,
            "margin": null,
            "max_height": null,
            "max_width": null,
            "min_height": null,
            "min_width": null,
            "object_fit": null,
            "object_position": null,
            "order": null,
            "overflow": null,
            "overflow_x": null,
            "overflow_y": null,
            "padding": null,
            "right": null,
            "top": null,
            "visibility": null,
            "width": null
          }
        },
        "88a100916d1543e7b9ade0a620a89c7b": {
          "model_module": "@jupyter-widgets/controls",
          "model_name": "DescriptionStyleModel",
          "model_module_version": "1.5.0",
          "state": {
            "_model_module": "@jupyter-widgets/controls",
            "_model_module_version": "1.5.0",
            "_model_name": "DescriptionStyleModel",
            "_view_count": null,
            "_view_module": "@jupyter-widgets/base",
            "_view_module_version": "1.2.0",
            "_view_name": "StyleView",
            "description_width": ""
          }
        },
        "947f633ca1254342b80960726eb79614": {
          "model_module": "@jupyter-widgets/controls",
          "model_name": "HBoxModel",
          "model_module_version": "1.5.0",
          "state": {
            "_dom_classes": [],
            "_model_module": "@jupyter-widgets/controls",
            "_model_module_version": "1.5.0",
            "_model_name": "HBoxModel",
            "_view_count": null,
            "_view_module": "@jupyter-widgets/controls",
            "_view_module_version": "1.5.0",
            "_view_name": "HBoxView",
            "box_style": "",
            "children": [
              "IPY_MODEL_d752239daaf941e79d3c69e4ffeb4ba9",
              "IPY_MODEL_9fd1e0dfcde44f26ad5729a3efe3015a",
              "IPY_MODEL_e66049cd293a43a985f319bc4d8f2951"
            ],
            "layout": "IPY_MODEL_9d10952ecf55409e99f855b1c5ce469b"
          }
        },
        "d752239daaf941e79d3c69e4ffeb4ba9": {
          "model_module": "@jupyter-widgets/controls",
          "model_name": "HTMLModel",
          "model_module_version": "1.5.0",
          "state": {
            "_dom_classes": [],
            "_model_module": "@jupyter-widgets/controls",
            "_model_module_version": "1.5.0",
            "_model_name": "HTMLModel",
            "_view_count": null,
            "_view_module": "@jupyter-widgets/controls",
            "_view_module_version": "1.5.0",
            "_view_name": "HTMLView",
            "description": "",
            "description_tooltip": null,
            "layout": "IPY_MODEL_83c23f665f38425a8beb6426b622b1c0",
            "placeholder": "​",
            "style": "IPY_MODEL_8d94278fbb1348c092e7e3ff3245be8b",
            "value": "Map: 100%"
          }
        },
        "9fd1e0dfcde44f26ad5729a3efe3015a": {
          "model_module": "@jupyter-widgets/controls",
          "model_name": "FloatProgressModel",
          "model_module_version": "1.5.0",
          "state": {
            "_dom_classes": [],
            "_model_module": "@jupyter-widgets/controls",
            "_model_module_version": "1.5.0",
            "_model_name": "FloatProgressModel",
            "_view_count": null,
            "_view_module": "@jupyter-widgets/controls",
            "_view_module_version": "1.5.0",
            "_view_name": "ProgressView",
            "bar_style": "",
            "description": "",
            "description_tooltip": null,
            "layout": "IPY_MODEL_d9c94167ac33482ea5deb6122a2be000",
            "max": 3,
            "min": 0,
            "orientation": "horizontal",
            "style": "IPY_MODEL_7f6d5cd2f7184c12bd89435226d94110",
            "value": 3
          }
        },
        "e66049cd293a43a985f319bc4d8f2951": {
          "model_module": "@jupyter-widgets/controls",
          "model_name": "HTMLModel",
          "model_module_version": "1.5.0",
          "state": {
            "_dom_classes": [],
            "_model_module": "@jupyter-widgets/controls",
            "_model_module_version": "1.5.0",
            "_model_name": "HTMLModel",
            "_view_count": null,
            "_view_module": "@jupyter-widgets/controls",
            "_view_module_version": "1.5.0",
            "_view_name": "HTMLView",
            "description": "",
            "description_tooltip": null,
            "layout": "IPY_MODEL_0a5bbc5730904a86bc52cedd4c7873f3",
            "placeholder": "​",
            "style": "IPY_MODEL_26d9038fc63b44b191b5c91199dd69d5",
            "value": " 3/3 [00:00&lt;00:00,  6.15 examples/s]"
          }
        },
        "9d10952ecf55409e99f855b1c5ce469b": {
          "model_module": "@jupyter-widgets/base",
          "model_name": "LayoutModel",
          "model_module_version": "1.2.0",
          "state": {
            "_model_module": "@jupyter-widgets/base",
            "_model_module_version": "1.2.0",
            "_model_name": "LayoutModel",
            "_view_count": null,
            "_view_module": "@jupyter-widgets/base",
            "_view_module_version": "1.2.0",
            "_view_name": "LayoutView",
            "align_content": null,
            "align_items": null,
            "align_self": null,
            "border": null,
            "bottom": null,
            "display": null,
            "flex": null,
            "flex_flow": null,
            "grid_area": null,
            "grid_auto_columns": null,
            "grid_auto_flow": null,
            "grid_auto_rows": null,
            "grid_column": null,
            "grid_gap": null,
            "grid_row": null,
            "grid_template_areas": null,
            "grid_template_columns": null,
            "grid_template_rows": null,
            "height": null,
            "justify_content": null,
            "justify_items": null,
            "left": null,
            "margin": null,
            "max_height": null,
            "max_width": null,
            "min_height": null,
            "min_width": null,
            "object_fit": null,
            "object_position": null,
            "order": null,
            "overflow": null,
            "overflow_x": null,
            "overflow_y": null,
            "padding": null,
            "right": null,
            "top": null,
            "visibility": "hidden",
            "width": null
          }
        },
        "83c23f665f38425a8beb6426b622b1c0": {
          "model_module": "@jupyter-widgets/base",
          "model_name": "LayoutModel",
          "model_module_version": "1.2.0",
          "state": {
            "_model_module": "@jupyter-widgets/base",
            "_model_module_version": "1.2.0",
            "_model_name": "LayoutModel",
            "_view_count": null,
            "_view_module": "@jupyter-widgets/base",
            "_view_module_version": "1.2.0",
            "_view_name": "LayoutView",
            "align_content": null,
            "align_items": null,
            "align_self": null,
            "border": null,
            "bottom": null,
            "display": null,
            "flex": null,
            "flex_flow": null,
            "grid_area": null,
            "grid_auto_columns": null,
            "grid_auto_flow": null,
            "grid_auto_rows": null,
            "grid_column": null,
            "grid_gap": null,
            "grid_row": null,
            "grid_template_areas": null,
            "grid_template_columns": null,
            "grid_template_rows": null,
            "height": null,
            "justify_content": null,
            "justify_items": null,
            "left": null,
            "margin": null,
            "max_height": null,
            "max_width": null,
            "min_height": null,
            "min_width": null,
            "object_fit": null,
            "object_position": null,
            "order": null,
            "overflow": null,
            "overflow_x": null,
            "overflow_y": null,
            "padding": null,
            "right": null,
            "top": null,
            "visibility": null,
            "width": null
          }
        },
        "8d94278fbb1348c092e7e3ff3245be8b": {
          "model_module": "@jupyter-widgets/controls",
          "model_name": "DescriptionStyleModel",
          "model_module_version": "1.5.0",
          "state": {
            "_model_module": "@jupyter-widgets/controls",
            "_model_module_version": "1.5.0",
            "_model_name": "DescriptionStyleModel",
            "_view_count": null,
            "_view_module": "@jupyter-widgets/base",
            "_view_module_version": "1.2.0",
            "_view_name": "StyleView",
            "description_width": ""
          }
        },
        "d9c94167ac33482ea5deb6122a2be000": {
          "model_module": "@jupyter-widgets/base",
          "model_name": "LayoutModel",
          "model_module_version": "1.2.0",
          "state": {
            "_model_module": "@jupyter-widgets/base",
            "_model_module_version": "1.2.0",
            "_model_name": "LayoutModel",
            "_view_count": null,
            "_view_module": "@jupyter-widgets/base",
            "_view_module_version": "1.2.0",
            "_view_name": "LayoutView",
            "align_content": null,
            "align_items": null,
            "align_self": null,
            "border": null,
            "bottom": null,
            "display": null,
            "flex": null,
            "flex_flow": null,
            "grid_area": null,
            "grid_auto_columns": null,
            "grid_auto_flow": null,
            "grid_auto_rows": null,
            "grid_column": null,
            "grid_gap": null,
            "grid_row": null,
            "grid_template_areas": null,
            "grid_template_columns": null,
            "grid_template_rows": null,
            "height": null,
            "justify_content": null,
            "justify_items": null,
            "left": null,
            "margin": null,
            "max_height": null,
            "max_width": null,
            "min_height": null,
            "min_width": null,
            "object_fit": null,
            "object_position": null,
            "order": null,
            "overflow": null,
            "overflow_x": null,
            "overflow_y": null,
            "padding": null,
            "right": null,
            "top": null,
            "visibility": null,
            "width": null
          }
        },
        "7f6d5cd2f7184c12bd89435226d94110": {
          "model_module": "@jupyter-widgets/controls",
          "model_name": "ProgressStyleModel",
          "model_module_version": "1.5.0",
          "state": {
            "_model_module": "@jupyter-widgets/controls",
            "_model_module_version": "1.5.0",
            "_model_name": "ProgressStyleModel",
            "_view_count": null,
            "_view_module": "@jupyter-widgets/base",
            "_view_module_version": "1.2.0",
            "_view_name": "StyleView",
            "bar_color": null,
            "description_width": ""
          }
        },
        "0a5bbc5730904a86bc52cedd4c7873f3": {
          "model_module": "@jupyter-widgets/base",
          "model_name": "LayoutModel",
          "model_module_version": "1.2.0",
          "state": {
            "_model_module": "@jupyter-widgets/base",
            "_model_module_version": "1.2.0",
            "_model_name": "LayoutModel",
            "_view_count": null,
            "_view_module": "@jupyter-widgets/base",
            "_view_module_version": "1.2.0",
            "_view_name": "LayoutView",
            "align_content": null,
            "align_items": null,
            "align_self": null,
            "border": null,
            "bottom": null,
            "display": null,
            "flex": null,
            "flex_flow": null,
            "grid_area": null,
            "grid_auto_columns": null,
            "grid_auto_flow": null,
            "grid_auto_rows": null,
            "grid_column": null,
            "grid_gap": null,
            "grid_row": null,
            "grid_template_areas": null,
            "grid_template_columns": null,
            "grid_template_rows": null,
            "height": null,
            "justify_content": null,
            "justify_items": null,
            "left": null,
            "margin": null,
            "max_height": null,
            "max_width": null,
            "min_height": null,
            "min_width": null,
            "object_fit": null,
            "object_position": null,
            "order": null,
            "overflow": null,
            "overflow_x": null,
            "overflow_y": null,
            "padding": null,
            "right": null,
            "top": null,
            "visibility": null,
            "width": null
          }
        },
        "26d9038fc63b44b191b5c91199dd69d5": {
          "model_module": "@jupyter-widgets/controls",
          "model_name": "DescriptionStyleModel",
          "model_module_version": "1.5.0",
          "state": {
            "_model_module": "@jupyter-widgets/controls",
            "_model_module_version": "1.5.0",
            "_model_name": "DescriptionStyleModel",
            "_view_count": null,
            "_view_module": "@jupyter-widgets/base",
            "_view_module_version": "1.2.0",
            "_view_name": "StyleView",
            "description_width": ""
          }
        }
      }
    }
  },
  "cells": [
    {
      "cell_type": "markdown",
      "metadata": {
        "id": "view-in-github",
        "colab_type": "text"
      },
      "source": [
        "<a href=\"https://colab.research.google.com/github/Hamza-333/Text-Summarizer/blob/main/413_Final_Project_.ipynb\" target=\"_parent\"><img src=\"https://colab.research.google.com/assets/colab-badge.svg\" alt=\"Open In Colab\"/></a>"
      ]
    },
    {
      "cell_type": "code",
      "source": [
        "import pandas as pd"
      ],
      "metadata": {
        "id": "sDwYqcLPToJ0"
      },
      "execution_count": 1,
      "outputs": []
    },
    {
      "cell_type": "code",
      "source": [
        "!pip install datasets"
      ],
      "metadata": {
        "colab": {
          "base_uri": "https://localhost:8080/"
        },
        "id": "mNlj8vHAHyTC",
        "outputId": "33113f8f-6b9a-47cc-e902-6402cc83bedf"
      },
      "execution_count": 2,
      "outputs": [
        {
          "output_type": "stream",
          "name": "stdout",
          "text": [
            "Looking in indexes: https://pypi.org/simple, https://us-python.pkg.dev/colab-wheels/public/simple/\n",
            "Requirement already satisfied: datasets in /usr/local/lib/python3.9/dist-packages (2.11.0)\n",
            "Requirement already satisfied: tqdm>=4.62.1 in /usr/local/lib/python3.9/dist-packages (from datasets) (4.65.0)\n",
            "Requirement already satisfied: xxhash in /usr/local/lib/python3.9/dist-packages (from datasets) (3.2.0)\n",
            "Requirement already satisfied: numpy>=1.17 in /usr/local/lib/python3.9/dist-packages (from datasets) (1.22.4)\n",
            "Requirement already satisfied: requests>=2.19.0 in /usr/local/lib/python3.9/dist-packages (from datasets) (2.27.1)\n",
            "Requirement already satisfied: fsspec[http]>=2021.11.1 in /usr/local/lib/python3.9/dist-packages (from datasets) (2023.3.0)\n",
            "Requirement already satisfied: responses<0.19 in /usr/local/lib/python3.9/dist-packages (from datasets) (0.18.0)\n",
            "Requirement already satisfied: pyyaml>=5.1 in /usr/local/lib/python3.9/dist-packages (from datasets) (6.0)\n",
            "Requirement already satisfied: aiohttp in /usr/local/lib/python3.9/dist-packages (from datasets) (3.8.4)\n",
            "Requirement already satisfied: pyarrow>=8.0.0 in /usr/local/lib/python3.9/dist-packages (from datasets) (10.0.0)\n",
            "Requirement already satisfied: packaging in /usr/local/lib/python3.9/dist-packages (from datasets) (23.0)\n",
            "Requirement already satisfied: multiprocess in /usr/local/lib/python3.9/dist-packages (from datasets) (0.70.14)\n",
            "Requirement already satisfied: huggingface-hub<1.0.0,>=0.11.0 in /usr/local/lib/python3.9/dist-packages (from datasets) (0.13.3)\n",
            "Requirement already satisfied: dill<0.3.7,>=0.3.0 in /usr/local/lib/python3.9/dist-packages (from datasets) (0.3.6)\n",
            "Requirement already satisfied: pandas in /usr/local/lib/python3.9/dist-packages (from datasets) (1.4.4)\n",
            "Requirement already satisfied: attrs>=17.3.0 in /usr/local/lib/python3.9/dist-packages (from aiohttp->datasets) (22.2.0)\n",
            "Requirement already satisfied: multidict<7.0,>=4.5 in /usr/local/lib/python3.9/dist-packages (from aiohttp->datasets) (6.0.4)\n",
            "Requirement already satisfied: aiosignal>=1.1.2 in /usr/local/lib/python3.9/dist-packages (from aiohttp->datasets) (1.3.1)\n",
            "Requirement already satisfied: charset-normalizer<4.0,>=2.0 in /usr/local/lib/python3.9/dist-packages (from aiohttp->datasets) (2.0.12)\n",
            "Requirement already satisfied: frozenlist>=1.1.1 in /usr/local/lib/python3.9/dist-packages (from aiohttp->datasets) (1.3.3)\n",
            "Requirement already satisfied: async-timeout<5.0,>=4.0.0a3 in /usr/local/lib/python3.9/dist-packages (from aiohttp->datasets) (4.0.2)\n",
            "Requirement already satisfied: yarl<2.0,>=1.0 in /usr/local/lib/python3.9/dist-packages (from aiohttp->datasets) (1.8.2)\n",
            "Requirement already satisfied: filelock in /usr/local/lib/python3.9/dist-packages (from huggingface-hub<1.0.0,>=0.11.0->datasets) (3.10.7)\n",
            "Requirement already satisfied: typing-extensions>=3.7.4.3 in /usr/local/lib/python3.9/dist-packages (from huggingface-hub<1.0.0,>=0.11.0->datasets) (4.5.0)\n",
            "Requirement already satisfied: certifi>=2017.4.17 in /usr/local/lib/python3.9/dist-packages (from requests>=2.19.0->datasets) (2022.12.7)\n",
            "Requirement already satisfied: idna<4,>=2.5 in /usr/local/lib/python3.9/dist-packages (from requests>=2.19.0->datasets) (3.4)\n",
            "Requirement already satisfied: urllib3<1.27,>=1.21.1 in /usr/local/lib/python3.9/dist-packages (from requests>=2.19.0->datasets) (1.26.15)\n",
            "Requirement already satisfied: pytz>=2020.1 in /usr/local/lib/python3.9/dist-packages (from pandas->datasets) (2022.7.1)\n",
            "Requirement already satisfied: python-dateutil>=2.8.1 in /usr/local/lib/python3.9/dist-packages (from pandas->datasets) (2.8.2)\n",
            "Requirement already satisfied: six>=1.5 in /usr/local/lib/python3.9/dist-packages (from python-dateutil>=2.8.1->pandas->datasets) (1.16.0)\n"
          ]
        }
      ]
    },
    {
      "cell_type": "code",
      "source": [
        "from datasets import list_datasets, load_dataset"
      ],
      "metadata": {
        "id": "7Rj25i3iQPHw"
      },
      "execution_count": 3,
      "outputs": []
    },
    {
      "cell_type": "code",
      "source": [
        "datasets = list_datasets()"
      ],
      "metadata": {
        "id": "et9LW9gsQjQF"
      },
      "execution_count": 4,
      "outputs": []
    },
    {
      "cell_type": "code",
      "source": [
        "datasets"
      ],
      "metadata": {
        "colab": {
          "base_uri": "https://localhost:8080/"
        },
        "id": "AYMfajIaXGCQ",
        "outputId": "0ec94207-fef0-4e31-8e27-4cf96a3a73e5"
      },
      "execution_count": 5,
      "outputs": [
        {
          "output_type": "execute_result",
          "data": {
            "text/plain": [
              "['acronym_identification',\n",
              " 'ade_corpus_v2',\n",
              " 'adversarial_qa',\n",
              " 'aeslc',\n",
              " 'afrikaans_ner_corpus',\n",
              " 'ag_news',\n",
              " 'ai2_arc',\n",
              " 'air_dialogue',\n",
              " 'ajgt_twitter_ar',\n",
              " 'allegro_reviews',\n",
              " 'allocine',\n",
              " 'alt',\n",
              " 'amazon_polarity',\n",
              " 'amazon_reviews_multi',\n",
              " 'amazon_us_reviews',\n",
              " 'ambig_qa',\n",
              " 'americas_nli',\n",
              " 'ami',\n",
              " 'amttl',\n",
              " 'anli',\n",
              " 'app_reviews',\n",
              " 'aqua_rat',\n",
              " 'aquamuse',\n",
              " 'ar_cov19',\n",
              " 'ar_res_reviews',\n",
              " 'ar_sarcasm',\n",
              " 'arabic_billion_words',\n",
              " 'arabic_pos_dialect',\n",
              " 'arabic_speech_corpus',\n",
              " 'arcd',\n",
              " 'arsentd_lev',\n",
              " 'art',\n",
              " 'arxiv_dataset',\n",
              " 'ascent_kb',\n",
              " 'aslg_pc12',\n",
              " 'asnq',\n",
              " 'asset',\n",
              " 'assin',\n",
              " 'assin2',\n",
              " 'atomic',\n",
              " 'autshumato',\n",
              " 'babi_qa',\n",
              " 'banking77',\n",
              " 'bbaw_egyptian',\n",
              " 'bbc_hindi_nli',\n",
              " 'bc2gm_corpus',\n",
              " 'beans',\n",
              " 'best2009',\n",
              " 'bianet',\n",
              " 'bible_para',\n",
              " 'big_patent',\n",
              " 'billsum',\n",
              " 'bing_coronavirus_query_set',\n",
              " 'biomrc',\n",
              " 'biosses',\n",
              " 'blbooks',\n",
              " 'blbooksgenre',\n",
              " 'blended_skill_talk',\n",
              " 'blimp',\n",
              " 'blog_authorship_corpus',\n",
              " 'bn_hate_speech',\n",
              " 'bnl_newspapers',\n",
              " 'bookcorpus',\n",
              " 'bookcorpusopen',\n",
              " 'boolq',\n",
              " 'bprec',\n",
              " 'break_data',\n",
              " 'brwac',\n",
              " 'bsd_ja_en',\n",
              " 'bswac',\n",
              " 'c3',\n",
              " 'c4',\n",
              " 'cail2018',\n",
              " 'caner',\n",
              " 'capes',\n",
              " 'casino',\n",
              " 'catalonia_independence',\n",
              " 'cats_vs_dogs',\n",
              " 'cawac',\n",
              " 'cbt',\n",
              " 'cc100',\n",
              " 'cc_news',\n",
              " 'ccaligned_multilingual',\n",
              " 'cdsc',\n",
              " 'cdt',\n",
              " 'cedr',\n",
              " 'cfq',\n",
              " 'chr_en',\n",
              " 'cifar10',\n",
              " 'cifar100',\n",
              " 'circa',\n",
              " 'civil_comments',\n",
              " 'clickbait_news_bg',\n",
              " 'climate_fever',\n",
              " 'clinc_oos',\n",
              " 'clue',\n",
              " 'cmrc2018',\n",
              " 'cmu_hinglish_dog',\n",
              " 'cnn_dailymail',\n",
              " 'coached_conv_pref',\n",
              " 'coarse_discourse',\n",
              " 'codah',\n",
              " 'code_search_net',\n",
              " 'code_x_glue_cc_clone_detection_big_clone_bench',\n",
              " 'code_x_glue_cc_clone_detection_poj104',\n",
              " 'code_x_glue_cc_cloze_testing_all',\n",
              " 'code_x_glue_cc_cloze_testing_maxmin',\n",
              " 'code_x_glue_cc_code_completion_line',\n",
              " 'code_x_glue_cc_code_completion_token',\n",
              " 'code_x_glue_cc_code_refinement',\n",
              " 'code_x_glue_cc_code_to_code_trans',\n",
              " 'code_x_glue_cc_defect_detection',\n",
              " 'code_x_glue_ct_code_to_text',\n",
              " 'code_x_glue_tc_nl_code_search_adv',\n",
              " 'code_x_glue_tc_text_to_code',\n",
              " 'code_x_glue_tt_text_to_text',\n",
              " 'com_qa',\n",
              " 'common_gen',\n",
              " 'common_language',\n",
              " 'common_voice',\n",
              " 'commonsense_qa',\n",
              " 'competition_math',\n",
              " 'compguesswhat',\n",
              " 'conceptnet5',\n",
              " 'conll2000',\n",
              " 'conll2002',\n",
              " 'conll2003',\n",
              " 'conllpp',\n",
              " 'consumer-finance-complaints',\n",
              " 'conv_ai',\n",
              " 'conv_ai_2',\n",
              " 'conv_ai_3',\n",
              " 'conv_questions',\n",
              " 'coqa',\n",
              " 'allenai/cord19',\n",
              " 'cornell_movie_dialog',\n",
              " 'cos_e',\n",
              " 'cosmos_qa',\n",
              " 'counter',\n",
              " 'covid_qa_castorini',\n",
              " 'covid_qa_deepset',\n",
              " 'covid_qa_ucsd',\n",
              " 'covid_tweets_japanese',\n",
              " 'covost2',\n",
              " 'cppe-5',\n",
              " 'craigslist_bargains',\n",
              " 'crawl_domain',\n",
              " 'crd3',\n",
              " 'crime_and_punish',\n",
              " 'crows_pairs',\n",
              " 'cryptonite',\n",
              " 'cs_restaurants',\n",
              " 'cuad',\n",
              " 'curiosity_dialogs',\n",
              " 'daily_dialog',\n",
              " 'dane',\n",
              " 'danish_political_comments',\n",
              " 'dart',\n",
              " 'datacommons_factcheck',\n",
              " 'dbpedia_14',\n",
              " 'dbrd',\n",
              " 'deal_or_no_dialog',\n",
              " 'definite_pronoun_resolution',\n",
              " 'dengue_filipino',\n",
              " 'dialog_re',\n",
              " 'diplomacy_detection',\n",
              " 'disaster_response_messages',\n",
              " 'discofuse',\n",
              " 'discovery',\n",
              " 'disfl_qa',\n",
              " 'doc2dial',\n",
              " 'docred',\n",
              " 'doqa',\n",
              " 'dream',\n",
              " 'drop',\n",
              " 'duorc',\n",
              " 'dutch_social',\n",
              " 'dyk',\n",
              " 'e2e_nlg',\n",
              " 'e2e_nlg_cleaned',\n",
              " 'ecb',\n",
              " 'ecthr_cases',\n",
              " 'eduge',\n",
              " 'ehealth_kd',\n",
              " 'eitb_parcc',\n",
              " 'electricity_load_diagrams',\n",
              " 'eli5',\n",
              " 'eli5_category',\n",
              " 'emea',\n",
              " 'emo',\n",
              " 'dair-ai/emotion',\n",
              " 'emotone_ar',\n",
              " 'empathetic_dialogues',\n",
              " 'enriched_web_nlg',\n",
              " 'eraser_multi_rc',\n",
              " 'esnli',\n",
              " 'eth_py150_open',\n",
              " 'ethos',\n",
              " 'eu_regulatory_ir',\n",
              " 'eurlex',\n",
              " 'euronews',\n",
              " 'europa_eac_tm',\n",
              " 'europa_ecdc_tm',\n",
              " 'europarl_bilingual',\n",
              " 'event2Mind',\n",
              " 'evidence_infer_treatment',\n",
              " 'exams',\n",
              " 'factckbr',\n",
              " 'fake_news_english',\n",
              " 'fake_news_filipino',\n",
              " 'farsi_news',\n",
              " 'fashion_mnist',\n",
              " 'fever',\n",
              " 'few_rel',\n",
              " 'financial_phrasebank',\n",
              " 'finer',\n",
              " 'flores',\n",
              " 'flue',\n",
              " 'food101',\n",
              " 'fquad',\n",
              " 'freebase_qa',\n",
              " 'gap',\n",
              " 'gem',\n",
              " 'generated_reviews_enth',\n",
              " 'generics_kb',\n",
              " 'german_legal_entity_recognition',\n",
              " 'germaner',\n",
              " 'germeval_14',\n",
              " 'giga_fren',\n",
              " 'gigaword',\n",
              " 'glucose',\n",
              " 'glue',\n",
              " 'gnad10',\n",
              " 'go_emotions',\n",
              " 'gooaq',\n",
              " 'google_wellformed_query',\n",
              " 'grail_qa',\n",
              " 'great_code',\n",
              " 'greek_legal_code',\n",
              " 'guardian_authorship',\n",
              " 'gutenberg_time',\n",
              " 'hans',\n",
              " 'hansards',\n",
              " 'hard',\n",
              " 'harem',\n",
              " 'has_part',\n",
              " 'hate_offensive',\n",
              " 'hate_speech18',\n",
              " 'hate_speech_filipino',\n",
              " 'hate_speech_offensive',\n",
              " 'hate_speech_pl',\n",
              " 'hate_speech_portuguese',\n",
              " 'hatexplain',\n",
              " 'hausa_voa_ner',\n",
              " 'hausa_voa_topics',\n",
              " 'hda_nli_hindi',\n",
              " 'head_qa',\n",
              " 'health_fact',\n",
              " 'hebrew_projectbenyehuda',\n",
              " 'hebrew_sentiment',\n",
              " 'hebrew_this_world',\n",
              " 'hellaswag',\n",
              " 'hendrycks_test',\n",
              " 'hind_encorp',\n",
              " 'hindi_discourse',\n",
              " 'hippocorpus',\n",
              " 'hkcancor',\n",
              " 'hlgd',\n",
              " 'hope_edi',\n",
              " 'hotpot_qa',\n",
              " 'hover',\n",
              " 'hrenwac_para',\n",
              " 'hrwac',\n",
              " 'humicroedit',\n",
              " 'hybrid_qa',\n",
              " 'hyperpartisan_news_detection',\n",
              " 'iapp_wiki_qa_squad',\n",
              " 'id_clickbait',\n",
              " 'id_liputan6',\n",
              " 'id_nergrit_corpus',\n",
              " 'id_newspapers_2018',\n",
              " 'id_panl_bppt',\n",
              " 'id_puisi',\n",
              " 'igbo_english_machine_translation',\n",
              " 'igbo_monolingual',\n",
              " 'igbo_ner',\n",
              " 'ilist',\n",
              " 'imdb',\n",
              " 'imdb_urdu_reviews',\n",
              " 'imppres',\n",
              " 'indic_glue',\n",
              " 'indonli',\n",
              " 'indonlp/indonlu',\n",
              " 'inquisitive_qg',\n",
              " 'interpress_news_category_tr',\n",
              " 'interpress_news_category_tr_lite',\n",
              " 'irc_disentangle',\n",
              " 'isixhosa_ner_corpus',\n",
              " 'isizulu_ner_corpus',\n",
              " 'iwslt2017',\n",
              " 'jeopardy',\n",
              " 'jfleg',\n",
              " 'jigsaw_toxicity_pred',\n",
              " 'jigsaw_unintended_bias',\n",
              " 'jnlpba',\n",
              " 'journalists_questions',\n",
              " 'kan_hope',\n",
              " 'kannada_news',\n",
              " 'kd_conv',\n",
              " 'kde4',\n",
              " 'kelm',\n",
              " 'kilt_tasks',\n",
              " 'kilt_wikipedia',\n",
              " 'kinnews_kirnews',\n",
              " 'klue',\n",
              " 'kor_3i4k',\n",
              " 'kor_hate',\n",
              " 'kor_ner',\n",
              " 'kor_nli',\n",
              " 'kor_nlu',\n",
              " 'kor_qpair',\n",
              " 'kor_sae',\n",
              " 'kor_sarcasm',\n",
              " 'labr',\n",
              " 'lama',\n",
              " 'lambada',\n",
              " 'large_spanish_corpus',\n",
              " 'laroseda',\n",
              " 'lc_quad',\n",
              " 'lener_br',\n",
              " 'lex_glue',\n",
              " 'liar',\n",
              " 'librispeech_asr',\n",
              " 'librispeech_lm',\n",
              " 'limit',\n",
              " 'lince',\n",
              " 'linnaeus',\n",
              " 'liveqa',\n",
              " 'lj_speech',\n",
              " 'lm1b',\n",
              " 'lst20',\n",
              " 'm_lama',\n",
              " 'mac_morpho',\n",
              " 'makhzan',\n",
              " 'masakhaner',\n",
              " 'math_dataset',\n",
              " 'math_qa',\n",
              " 'matinf',\n",
              " 'mbpp',\n",
              " 'mc4',\n",
              " 'mc_taco',\n",
              " 'md_gender_bias',\n",
              " 'mdd',\n",
              " 'med_hop',\n",
              " 'medal',\n",
              " 'medical_dialog',\n",
              " 'medical_questions_pairs',\n",
              " 'menyo20k_mt',\n",
              " 'meta_woz',\n",
              " 'metooma',\n",
              " 'metrec',\n",
              " 'miam',\n",
              " 'mkb',\n",
              " 'mkqa',\n",
              " 'mlqa',\n",
              " 'mlsum',\n",
              " 'mnist',\n",
              " 'mocha',\n",
              " 'moroco',\n",
              " 'movie_rationales',\n",
              " 'mrqa',\n",
              " 'ms_marco',\n",
              " 'ms_terms',\n",
              " 'msr_genomics_kbcomp',\n",
              " 'msr_sqa',\n",
              " 'msr_text_compression',\n",
              " 'msr_zhen_translation_parity',\n",
              " 'msra_ner',\n",
              " 'mt_eng_vietnamese',\n",
              " 'muchocine',\n",
              " 'multi_booked',\n",
              " 'multi_eurlex',\n",
              " 'multi_news',\n",
              " 'multi_nli',\n",
              " 'multi_nli_mismatch',\n",
              " 'multi_para_crawl',\n",
              " 'multi_re_qa',\n",
              " 'multi_woz_v22',\n",
              " 'multi_x_science_sum',\n",
              " 'multidoc2dial',\n",
              " 'multilingual_librispeech',\n",
              " 'mutual_friends',\n",
              " 'mwsc',\n",
              " 'myanmar_news',\n",
              " 'narrativeqa',\n",
              " 'narrativeqa_manual',\n",
              " 'natural_questions',\n",
              " 'ncbi_disease',\n",
              " 'nchlt',\n",
              " 'ncslgr',\n",
              " 'nell',\n",
              " 'neural_code_search',\n",
              " 'news_commentary',\n",
              " 'newsgroup',\n",
              " 'newsph',\n",
              " 'newsph_nli',\n",
              " 'newspop',\n",
              " 'newsqa',\n",
              " 'newsroom',\n",
              " 'nkjp-ner',\n",
              " 'nli_tr',\n",
              " 'nlu_evaluation_data',\n",
              " 'norec',\n",
              " 'norne',\n",
              " 'norwegian_ner',\n",
              " 'nq_open',\n",
              " 'nsmc',\n",
              " 'numer_sense',\n",
              " 'numeric_fused_head',\n",
              " 'oclar',\n",
              " 'offcombr',\n",
              " 'offenseval2020_tr',\n",
              " 'offenseval_dravidian',\n",
              " 'ofis_publik',\n",
              " 'ohsumed',\n",
              " 'ollie',\n",
              " 'omp',\n",
              " 'onestop_english',\n",
              " 'onestop_qa',\n",
              " 'open_subtitles',\n",
              " 'openai_humaneval',\n",
              " 'openbookqa',\n",
              " 'openslr',\n",
              " 'openwebtext',\n",
              " 'opinosis',\n",
              " 'opus100',\n",
              " 'opus_books',\n",
              " 'opus_dgt',\n",
              " 'opus_dogc',\n",
              " 'opus_elhuyar',\n",
              " 'opus_euconst',\n",
              " 'opus_finlex',\n",
              " 'opus_fiskmo',\n",
              " 'opus_gnome',\n",
              " 'opus_infopankki',\n",
              " 'opus_memat',\n",
              " 'opus_montenegrinsubs',\n",
              " 'opus_openoffice',\n",
              " 'opus_paracrawl',\n",
              " 'opus_rf',\n",
              " 'opus_tedtalks',\n",
              " 'opus_ubuntu',\n",
              " 'opus_wikipedia',\n",
              " 'opus_xhosanavy',\n",
              " 'orange_sum',\n",
              " 'oscar',\n",
              " 'para_crawl',\n",
              " 'para_pat',\n",
              " 'parsinlu_reading_comprehension',\n",
              " 'pass',\n",
              " 'paws-x',\n",
              " 'paws',\n",
              " 'pec',\n",
              " 'allenai/peer_read',\n",
              " 'peoples_daily_ner',\n",
              " 'per_sent',\n",
              " 'persian_ner',\n",
              " 'pg19',\n",
              " 'php',\n",
              " 'etalab-ia/piaf',\n",
              " 'pib',\n",
              " 'piqa',\n",
              " 'pn_summary',\n",
              " 'poem_sentiment',\n",
              " 'polemo2',\n",
              " 'poleval2019_cyberbullying',\n",
              " 'poleval2019_mt',\n",
              " 'polsum',\n",
              " 'polyglot_ner',\n",
              " 'prachathai67k',\n",
              " 'pragmeval',\n",
              " 'proto_qa',\n",
              " 'psc',\n",
              " 'ptb_text_only',\n",
              " 'pubmed',\n",
              " 'pubmed_qa',\n",
              " 'py_ast',\n",
              " 'qa4mre',\n",
              " 'qa_srl',\n",
              " 'qa_zre',\n",
              " 'qangaroo',\n",
              " 'qanta',\n",
              " 'qasc',\n",
              " 'allenai/qasper',\n",
              " 'qed',\n",
              " 'qed_amara',\n",
              " 'quac',\n",
              " 'quail',\n",
              " 'quarel',\n",
              " 'quartz',\n",
              " 'quora',\n",
              " 'quoref',\n",
              " 'race',\n",
              " 're_dial',\n",
              " 'reasoning_bg',\n",
              " 'recipe_nlg',\n",
              " 'reclor',\n",
              " 'red_caps',\n",
              " 'reddit',\n",
              " 'reddit_tifu',\n",
              " 'refresd',\n",
              " 'reuters21578',\n",
              " 'riddle_sense',\n",
              " 'ro_sent',\n",
              " 'ro_sts',\n",
              " 'ro_sts_parallel',\n",
              " 'roman_urdu',\n",
              " 'ronec',\n",
              " 'ropes',\n",
              " 'rotten_tomatoes',\n",
              " 'russian_super_glue',\n",
              " 'allenai/s2orc',\n",
              " 'samsum',\n",
              " 'sanskrit_classic',\n",
              " 'saudinewsnet',\n",
              " 'sberquad',\n",
              " 'scan',\n",
              " 'scb_mt_enth_2020',\n",
              " 'scene_parse_150',\n",
              " 'schema_guided_dstc8',\n",
              " 'allenai/scicite',\n",
              " 'scielo',\n",
              " 'scientific_papers',\n",
              " 'allenai/scifact',\n",
              " 'sciq',\n",
              " 'scitail',\n",
              " 'allenai/scitldr',\n",
              " 'search_qa',\n",
              " 'sede',\n",
              " 'selqa',\n",
              " 'sem_eval_2010_task_8',\n",
              " 'sem_eval_2014_task_1',\n",
              " 'sem_eval_2018_task_1',\n",
              " 'sem_eval_2020_task_11',\n",
              " 'sent_comp',\n",
              " 'senti_lex',\n",
              " 'senti_ws',\n",
              " 'sentiment140',\n",
              " 'sepedi_ner',\n",
              " 'sesotho_ner_corpus',\n",
              " 'setimes',\n",
              " 'setswana_ner_corpus',\n",
              " 'sharc',\n",
              " 'sharc_modified',\n",
              " 'sick',\n",
              " 'silicone',\n",
              " 'simple_questions_v2',\n",
              " 'siswati_ner_corpus',\n",
              " 'smartdata',\n",
              " 'sms_spam',\n",
              " 'snips_built_in_intents',\n",
              " 'snli',\n",
              " 'snow_simplified_japanese_corpus',\n",
              " 'so_stacksample',\n",
              " 'social_bias_frames',\n",
              " 'social_i_qa',\n",
              " 'sofc_materials_articles',\n",
              " 'sogou_news',\n",
              " 'spanish_billion_words',\n",
              " 'spc',\n",
              " 'species_800',\n",
              " 'speech_commands',\n",
              " 'spider',\n",
              " 'squad',\n",
              " 'squad_adversarial',\n",
              " 'squad_es',\n",
              " 'squad_it',\n",
              " 'squad_kor_v1',\n",
              " 'squad_kor_v2',\n",
              " 'squad_v1_pt',\n",
              " 'squad_v2',\n",
              " 'squadshifts',\n",
              " 'srwac',\n",
              " 'sst',\n",
              " 'stereoset',\n",
              " 'story_cloze',\n",
              " 'stsb_mt_sv',\n",
              " 'stsb_multi_mt',\n",
              " 'style_change_detection',\n",
              " 'subjqa',\n",
              " 'super_glue',\n",
              " 'superb',\n",
              " 'svhn',\n",
              " 'swag',\n",
              " 'swahili',\n",
              " 'swahili_news',\n",
              " 'swda',\n",
              " 'swedish_medical_ner',\n",
              " 'swedish_ner_corpus',\n",
              " 'swedish_reviews',\n",
              " 'rcds/swiss_judgment_prediction',\n",
              " 'tab_fact',\n",
              " 'tamilmixsentiment',\n",
              " 'tanzil',\n",
              " 'tapaco',\n",
              " 'tashkeela',\n",
              " 'taskmaster1',\n",
              " 'taskmaster2',\n",
              " 'taskmaster3',\n",
              " 'tatoeba',\n",
              " 'ted_hrlr',\n",
              " 'ted_iwlst2013',\n",
              " 'ted_multi',\n",
              " 'ted_talks_iwslt',\n",
              " 'telugu_books',\n",
              " 'telugu_news',\n",
              " 'tep_en_fa_para',\n",
              " 'text2log',\n",
              " 'thai_toxicity_tweet',\n",
              " 'thainer',\n",
              " 'thaiqa_squad',\n",
              " 'thaisum',\n",
              " 'EleutherAI/the_pile',\n",
              " 'the_pile_books3',\n",
              " 'the_pile_openwebtext2',\n",
              " 'the_pile_stack_exchange',\n",
              " 'tilde_model',\n",
              " 'time_dial',\n",
              " 'times_of_india_news_headlines',\n",
              " 'timit_asr',\n",
              " 'tiny_shakespeare',\n",
              " 'tlc',\n",
              " 'tmu_gfm_dataset',\n",
              " 'told-br',\n",
              " 'totto',\n",
              " 'trec',\n",
              " 'trivia_qa',\n",
              " 'tsac',\n",
              " 'ttc4900',\n",
              " 'tunizi',\n",
              " 'tuple_ie',\n",
              " 'turk',\n",
              " 'turkic_xwmt',\n",
              " 'turkish_movie_sentiment',\n",
              " 'turkish_ner',\n",
              " 'turkish_product_reviews',\n",
              " 'turkish_shrinked_ner',\n",
              " 'turku_ner_corpus',\n",
              " 'tweet_eval',\n",
              " 'tweet_qa',\n",
              " 'tweets_ar_en_parallel',\n",
              " 'tweets_hate_speech_detection',\n",
              " 'twi_text_c3',\n",
              " 'twi_wordsim353',\n",
              " 'tydiqa',\n",
              " 'ubuntu_dialogs_corpus',\n",
              " 'udhr',\n",
              " 'um005',\n",
              " 'un_ga',\n",
              " 'un_multi',\n",
              " 'un_pc',\n",
              " 'universal_dependencies',\n",
              " 'universal_morphologies',\n",
              " 'urdu_fake_news',\n",
              " 'urdu_sentiment_corpus',\n",
              " 'vctk',\n",
              " 'vivos',\n",
              " 'web_nlg',\n",
              " 'web_of_science',\n",
              " 'web_questions',\n",
              " 'weibo_ner',\n",
              " 'wi_locness',\n",
              " 'wider_face',\n",
              " 'wiki40b',\n",
              " 'wiki_asp',\n",
              " 'wiki_atomic_edits',\n",
              " 'wiki_auto',\n",
              " 'wiki_bio',\n",
              " 'wiki_dpr',\n",
              " 'wiki_hop',\n",
              " 'wiki_lingua',\n",
              " 'wiki_movies',\n",
              " 'wiki_qa',\n",
              " 'wiki_qa_ar',\n",
              " 'wiki_snippets',\n",
              " 'wiki_source',\n",
              " 'wiki_split',\n",
              " 'wiki_summary',\n",
              " 'wikiann',\n",
              " 'wikicorpus',\n",
              " 'wikihow',\n",
              " 'wikipedia',\n",
              " 'wikisql',\n",
              " 'wikitext',\n",
              " 'wikitext_tl39',\n",
              " 'wili_2018',\n",
              " 'wino_bias',\n",
              " 'winograd_wsc',\n",
              " 'winogrande',\n",
              " 'wiqa',\n",
              " 'wisesight1000',\n",
              " 'wisesight_sentiment',\n",
              " 'wmt14',\n",
              " 'wmt15',\n",
              " 'wmt16',\n",
              " 'wmt17',\n",
              " 'wmt18',\n",
              " 'wmt19',\n",
              " 'wmt20_mlqe_task1',\n",
              " 'wmt20_mlqe_task2',\n",
              " 'wmt20_mlqe_task3',\n",
              " 'wmt_t2t',\n",
              " 'wnut_17',\n",
              " 'wongnai_reviews',\n",
              " 'woz_dialogue',\n",
              " 'wrbsc',\n",
              " 'x_stance',\n",
              " 'xcopa',\n",
              " 'xcsr',\n",
              " 'xed_en_fi',\n",
              " 'xglue',\n",
              " 'xnli',\n",
              " 'xor_tydi_qa',\n",
              " 'xquad',\n",
              " 'xquad_r',\n",
              " 'xsum',\n",
              " 'xsum_factuality',\n",
              " 'xtreme',\n",
              " 'yahoo_answers_qa',\n",
              " 'yahoo_answers_topics',\n",
              " 'yelp_polarity',\n",
              " 'yelp_review_full',\n",
              " 'yoruba_bbc_topics',\n",
              " 'yoruba_gv_ner',\n",
              " 'yoruba_text_c3',\n",
              " 'yoruba_wordsim353',\n",
              " 'youtube_caption_corrections',\n",
              " 'zest',\n",
              " '0n1xus/codexglue',\n",
              " '0n1xus/pytorrent-standalone',\n",
              " 'AConsApart/anime_subtitles_DialoGPT',\n",
              " 'AHussain0418/day2_data',\n",
              " 'AHussain0418/day4data',\n",
              " 'AHussain0418/demo_data',\n",
              " 'AI-Sweden/SuperLim',\n",
              " 'AI-it/khs_service_test',\n",
              " 'AI-it/korean-hate-speech',\n",
              " 'ARKseal/YFCC14M_subset_webdataset',\n",
              " 'ARTeLab/fanpage',\n",
              " 'ARTeLab/ilpost',\n",
              " 'ARTeLab/mlsum-it',\n",
              " 'ASCCCCCCCC/amazon_zh',\n",
              " 'ASCCCCCCCC/amazon_zh_simple',\n",
              " 'Abdo1Kamr/Arabic_Hadith',\n",
              " 'Abirate/code_net_dataset',\n",
              " 'Abirate/code_net_dev_dataset',\n",
              " 'Abirate/code_net_test_final_dataset',\n",
              " 'Abirate/english_quotes',\n",
              " 'Abirate/french_book_reviews',\n",
              " 'AdWeeb/DravidianMT',\n",
              " 'Adnan/Urdu_News_Headlines',\n",
              " 'AhmadSawal/qa',\n",
              " 'AhmedSSoliman/CoNaLa',\n",
              " 'Aisha/BAAD16',\n",
              " 'Aisha/BAAD6',\n",
              " 'Akila/ForgottenRealmsWikiDataset',\n",
              " 'Akshith/aa',\n",
              " 'Akshith/g_rock',\n",
              " 'Akshith/test',\n",
              " 'adorkin/extended_tweet_emojis',\n",
              " 'AlekseyKorshuk/comedy-scripts',\n",
              " 'AlekseyKorshuk/horror-scripts',\n",
              " 'AlexMaclean/all-deletion-compressions',\n",
              " 'AlexMaclean/wikipedia-deletion-compressions',\n",
              " 'AlexZapolskii/zapolskii-amazon',\n",
              " 'AlgoveraAI/CryptoPunks',\n",
              " 'Aliseyfi/event_token_type',\n",
              " 'Alvenir/nst-da-16khz',\n",
              " 'AndrewMcDowell/de_corpora_parliament_processed',\n",
              " 'Annabelleabbott/real-fake-news-workshop',\n",
              " 'Annielytics/DoctorsNotes',\n",
              " 'Anurag-Singh-creator/task',\n",
              " 'Anurag-Singh-creator/tasks',\n",
              " 'ApiInferenceTest/asr_dummy',\n",
              " 'Arnold/hausa_common_voice',\n",
              " 'AryanLala/autonlp-data-Scientific_Title_Generator',\n",
              " 'Atsushi/fungi_diagnostic_chars_comparison_japanese',\n",
              " 'Atsushi/fungi_indexed_mycological_papers_japanese',\n",
              " 'Atsushi/fungi_trait_circus_database',\n",
              " 'Avishekavi/Avi',\n",
              " 'BSC-LT/SQAC',\n",
              " 'BSC-LT/ancora-ca-ner',\n",
              " 'BSC-LT/sts-ca',\n",
              " 'BSC-LT/tecla',\n",
              " 'BSC-LT/viquiquad',\n",
              " 'BSC-LT/xquad-ca',\n",
              " 'Babelscape/rebel-dataset',\n",
              " 'Babelscape/wikineural',\n",
              " 'BatuhanYilmaz/github-issues',\n",
              " 'Baybars/parla_text_corpus',\n",
              " 'BeIR/beir-corpus',\n",
              " 'BeIR/beir',\n",
              " 'Lacito/pangloss',\n",
              " 'Binbin/my_dataset',\n",
              " 'BlakesOrb6/Fred-Flintstone',\n",
              " 'Bosio/pacman',\n",
              " 'Bosio/pacman_descriptions',\n",
              " 'BritishLibraryLabs/EThOS-PhD-metadata',\n",
              " 'CAGER/rick',\n",
              " 'CALM/arwiki',\n",
              " 'CAiRE/ASCEND',\n",
              " 'CShorten/KerasBERT',\n",
              " 'ChadxxxxHall/Inter-vision',\n",
              " 'Champion/vpc2020_clear_anon_speech',\n",
              " 'Check/a_re_gi',\n",
              " 'Check/region_1',\n",
              " 'Check/region_2',\n",
              " 'Check/region_3',\n",
              " 'Check/region_4',\n",
              " 'Check/region_5',\n",
              " 'Check/region_6',\n",
              " 'Check/region_7',\n",
              " 'Check/region_8',\n",
              " 'Check/region_9',\n",
              " 'Check/regions',\n",
              " 'Check/vverify',\n",
              " 'Cheranga/test',\n",
              " 'ChristophSchuhmann/MS_COCO_2017_URL_TEXT',\n",
              " 'Chun/dataset',\n",
              " 'Chuu/Vhh',\n",
              " 'CodedotAI/code-clippy-tfrecords',\n",
              " 'CodedotAI/code_clippy',\n",
              " 'CodedotAI/code_clippy_github',\n",
              " 'Crives/haha',\n",
              " 'Cropinky/flatearther',\n",
              " 'Cropinky/rap_lyrics_english',\n",
              " 'Cropinky/wow_fishing_bobber',\n",
              " 'Cyberfish/pos_tagger',\n",
              " 'Cyberfish/text_error_correction',\n",
              " 'CyranoB/polarity',\n",
              " 'DDSC/angry-tweets',\n",
              " 'DDSC/dkhate',\n",
              " 'DDSC/europarl',\n",
              " 'DDSC/lcc',\n",
              " 'DDSC/partial-danish-gigaword-no-twitter',\n",
              " 'DDSC/reddit-da-asr-preprocessed',\n",
              " 'DDSC/reddit-da',\n",
              " 'DDSC/twitter-sent',\n",
              " 'DELith/github-issues',\n",
              " 'DSCI511G1/COP26_Energy_Transition_Tweets',\n",
              " 'DanL/scientific-challenges-and-directions-dataset',\n",
              " 'Daniele/dante-corpus',\n",
              " 'Darren/data',\n",
              " 'Datatang/accented_english',\n",
              " 'Datatang/accented_mandarin',\n",
              " 'Datatang/chinese_dialect',\n",
              " 'Datatang/mandarin_chinese',\n",
              " 'Datatang/mixed_speech_chinese_english',\n",
              " 'Datatang/multi_language',\n",
              " 'Datatang/multi_language_conversation',\n",
              " 'Davlan/conll2003_de_noMISC',\n",
              " 'Davlan/conll2003_noMISC',\n",
              " 'Davlan/masakhanerV1',\n",
              " 'DelgadoPanadero/Pokemon',\n",
              " 'DeskDown/ALTDataset',\n",
              " 'DeskDown/ALTDataset_en-to-fil-vi-id-ms-ja-khm',\n",
              " 'DiFronzo/Human_Activity_Recognition',\n",
              " 'Dmitriy612/1',\n",
              " 'DoctorSlimm/yipee',\n",
              " 'Doohae/klue-mrc-bm25',\n",
              " 'Doohae/modern_music_re',\n",
              " 'DoyyingFace/github-embeddings-doy',\n",
              " 'DoyyingFace/github-issues-doy',\n",
              " 'DrishtiSharma/as_opus100_processed',\n",
              " 'DrishtiSharma/bg_opus100_processed',\n",
              " 'DrishtiSharma/br_opus100_processed',\n",
              " 'DrishtiSharma/hi_opus100_processed',\n",
              " 'DrishtiSharma/kk_opus100_processed',\n",
              " 'DrishtiSharma/mr_opus100_processed',\n",
              " 'DrishtiSharma/or_opus100_processed',\n",
              " 'DrishtiSharma/sl_opus100_processed',\n",
              " 'DrishtiSharma/sr_opus100_processed',\n",
              " 'Dumiiii/common-voice-romaniarss',\n",
              " 'EMBO/biolang',\n",
              " 'EMBO/sd-nlp',\n",
              " 'ESZER/H',\n",
              " 'Emanuel/UD_Portuguese-Bosque',\n",
              " 'Emma121/aaaaa',\n",
              " 'Emma121/testtest',\n",
              " 'Enes3774/data',\n",
              " 'Exr0n/wiki-entity-similarity',\n",
              " 'Eymen3455/xsum_tr',\n",
              " 'FIG-Loneliness/FIG-Loneliness',\n",
              " 'FL33TW00D/test-dataset',\n",
              " 'FRTNX/cosuju',\n",
              " 'FRTNX/worldbank-projects',\n",
              " 'Felix-ML/quoteli3',\n",
              " 'Finnish-NLP/mc4_fi_cleaned',\n",
              " 'Firoj/HumAID',\n",
              " 'Francois/futures_es',\n",
              " 'Fraser/mnist-text-default',\n",
              " 'Fraser/mnist-text-no-spaces',\n",
              " 'Fraser/mnist-text-small',\n",
              " 'Fraser/dream-coder',\n",
              " 'Fraser/python-lines',\n",
              " 'Fraser/python-state-changes',\n",
              " 'Fraser/short-jokes',\n",
              " 'Fraser/wiki_sentences',\n",
              " 'GEM/ART',\n",
              " 'GEM/BiSECT',\n",
              " 'GEM/CrossWOZ',\n",
              " 'GEM/OrangeSum',\n",
              " 'GEM/RiSAWOZ',\n",
              " 'GEM/RotoWire_English-German',\n",
              " 'GEM/SIMPITIKI',\n",
              " 'GEM/SciDuet',\n",
              " 'GEM/Taskmaster',\n",
              " 'GEM/cochrane-simplification',\n",
              " 'GEM/common_gen',\n",
              " 'GEM/conversational_weather',\n",
              " 'GEM/cs_restaurants',\n",
              " 'GEM/dart',\n",
              " 'GEM/dstc10_track2_task2',\n",
              " 'GEM/e2e_nlg',\n",
              " 'GEM/indonlg',\n",
              " 'GEM/mlb_data_to_text',\n",
              " 'GEM/mlsum',\n",
              " 'GEM/opusparcus',\n",
              " 'GEM/references',\n",
              " 'GEM/schema_guided_dialog',\n",
              " 'GEM/sportsett_basketball',\n",
              " 'GEM/squad_v2',\n",
              " 'GEM/surface_realisation_st_2020',\n",
              " 'GEM/totto',\n",
              " 'GEM/turku_hockey_data2text',\n",
              " 'GEM/turku_paraphrase_corpus',\n",
              " 'GEM-submissions/v1-outputs-and-scores',\n",
              " 'GEM/viggo',\n",
              " 'GEM/web_nlg',\n",
              " 'GEM/wiki_auto_asset_turk',\n",
              " 'GEM/wiki_cat_sum',\n",
              " 'GEM/wiki_lingua',\n",
              " 'GEM/xlsum',\n",
              " 'GEM/xsum',\n",
              " 'GEM-submissions/GEM__bart_base_schema_guided_dialog__1645547915',\n",
              " 'GEM-submissions/Leo__bart-large__1645784880',\n",
              " 'GEM-submissions/Leo__mbart-large-cc25__1645802644',\n",
              " 'GEM-submissions/lewtun__hugging-face-test-t5-base.outputs.json-36bf2a59__1645558682',\n",
              " 'GEM-submissions/lewtun__hugging-face-test-t5-base.outputs.json-36bf2a59__1645559101',\n",
              " 'GEM-submissions/lewtun__hugging-face-test-t5-base.outputs.json-36bf2a59__1645800191',\n",
              " 'GEM-submissions/lewtun__hugging-face-test-t5-base.outputs.json-36bf2a59__1646049378',\n",
              " 'GEM-submissions/lewtun__hugging-face-test-t5-base.outputs.json-36bf2a59__1646049424',\n",
              " 'GEM-submissions/lewtun__hugging-face-test-t5-base.outputs.json-36bf2a59__1646049601',\n",
              " 'GEM-submissions/lewtun__hugging-face-test-t5-base.outputs.json-36bf2a59__1646049876',\n",
              " 'GEM-submissions/lewtun__hugging-face-test-t5-base.outputs.json-36bf2a59__1646050898',\n",
              " 'GEM-submissions/lewtun__hugging-face-test-t5-base.outputs.json-36bf2a59__1646051364',\n",
              " 'GEM-submissions/lewtun__hugging-face-test-t5-base.outputs.json-36bf2a59__1646052073',\n",
              " 'GEM-submissions/lewtun__this-is-a-test__1646052811',\n",
              " 'GEM-submissions/lewtun__this-is-a-test__1646230987',\n",
              " 'GEM-submissions/ratishsp',\n",
              " 'GEM-submissions/submission-scores',\n",
              " 'GV05/shlomit_speech',\n",
              " 'Gabriel/quora_swe',\n",
              " 'GalacticAI/Noirset',\n",
              " 'Gauravadlakha1509/new_one',\n",
              " 'GeoffVdr/cv8_trainval_processed',\n",
              " 'GonzaloA/fake_news',\n",
              " 'Graphcore/gqa-lxmert',\n",
              " 'Graphcore/gqa',\n",
              " 'Graphcore/vqa-lxmert',\n",
              " 'Graphcore/vqa',\n",
              " 'Graphcore/wikipedia-bert-128',\n",
              " 'Graphcore/wikipedia-bert-512',\n",
              " 'GroNLP/ik-nlp-22_pestyle',\n",
              " 'GroNLP/ik-nlp-22_slp',\n",
              " 'GroNLP/ik-nlp-22_transqe',\n",
              " 'GroNLP/ik-nlp-22_winemag',\n",
              " 'Gwangho/NCBI-Sars-Cov-2',\n",
              " 'HHousen/ParaSCI',\n",
              " 'HHousen/msrp',\n",
              " 'HHousen/quora',\n",
              " 'HUPD/hupd',\n",
              " 'Halilyesilceng/autonlp-data-nameEntityRecognition',\n",
              " 'HarleyQ/WitcherDialogue',\n",
              " 'HarrisDePerceptron/sv_corpora_parliament_processed',\n",
              " 'HarrisDePerceptron/ur_corpora_pib',\n",
              " 'Harveenchadha/bol-models',\n",
              " 'Harveenchadha/indic-voice',\n",
              " 'HarveyBWest/mybot',\n",
              " 'Hellisotherpeople/DebateSum',\n",
              " 'Helsinki-NLP/tatoeba_mt',\n",
              " 'HenryAI/KerasAPIReference.txt',\n",
              " 'HenryAI/KerasBERTv1-Data',\n",
              " 'HenryAI/KerasCodeExamples.txt',\n",
              " 'HenryAI/KerasDeveloperGuides.txt',\n",
              " 'Huertas97/autonlp-data-mami-semeval-20-21',\n",
              " 'Husain/intent-classification-en-fr',\n",
              " 'IFSTalfredoswald/MBTI',\n",
              " 'Iftoo95/Arabic_Sentiment_and_Topics',\n",
              " 'IlyaGusev/gazeta',\n",
              " ...]"
            ]
          },
          "metadata": {},
          "execution_count": 5
        }
      ]
    },
    {
      "cell_type": "code",
      "source": [
        "# load cnn-daily mail\n",
        "cnn = load_dataset('cnn_dailymail', '1.0.0')"
      ],
      "metadata": {
        "colab": {
          "base_uri": "https://localhost:8080/",
          "height": 86,
          "referenced_widgets": [
            "5b250ce88b8b4bfa8af9ea437f5f34ff",
            "90d187badcfa4b819b372d3cd68adfde",
            "bf1b0e3df6644773b8c8e128c25fcfc1",
            "b2961897ab9741c191ef6f90aff7c622",
            "442b52a4d04d478381c751550074d512",
            "6ad34829b9e64c71a6c890333a74ae7a",
            "93422dca8dc244909dc27fa9ae32e9f2",
            "d0c97ec572cc4fca8515beeca0f91668",
            "3ead30b9501f495cb99cb6d831f1e2db",
            "09709b085a0f4c8fae6bb946f074ed18",
            "709b0c625c30403d86afc41d52cb8531"
          ]
        },
        "id": "Jt0ouyGSRFQd",
        "outputId": "b368c655-0107-4c6f-e6d1-88a5e90d030a"
      },
      "execution_count": 6,
      "outputs": [
        {
          "output_type": "stream",
          "name": "stderr",
          "text": [
            "WARNING:datasets.builder:Found cached dataset cnn_dailymail (/root/.cache/huggingface/datasets/cnn_dailymail/1.0.0/1.0.0/1b3c71476f6d152c31c1730e83ccb08bcf23e348233f4fcc11e182248e6bf7de)\n"
          ]
        },
        {
          "output_type": "display_data",
          "data": {
            "text/plain": [
              "  0%|          | 0/3 [00:00<?, ?it/s]"
            ],
            "application/vnd.jupyter.widget-view+json": {
              "version_major": 2,
              "version_minor": 0,
              "model_id": "5b250ce88b8b4bfa8af9ea437f5f34ff"
            }
          },
          "metadata": {}
        }
      ]
    },
    {
      "cell_type": "code",
      "source": [
        "cnn['train'][0]"
      ],
      "metadata": {
        "colab": {
          "base_uri": "https://localhost:8080/"
        },
        "id": "w4qcOGVQTuSF",
        "outputId": "afc0c58d-03d2-46c4-dc63-eeddbc804466"
      },
      "execution_count": 7,
      "outputs": [
        {
          "output_type": "execute_result",
          "data": {
            "text/plain": [
              "{'article': 'LONDON, England (Reuters) -- Harry Potter star Daniel Radcliffe gains access to a reported £20 million ($41.1 million) fortune as he turns 18 on Monday, but he insists the money won\\'t cast a spell on him. Daniel Radcliffe as Harry Potter in \"Harry Potter and the Order of the Phoenix\" To the disappointment of gossip columnists around the world, the young actor says he has no plans to fritter his cash away on fast cars, drink and celebrity parties. \"I don\\'t plan to be one of those people who, as soon as they turn 18, suddenly buy themselves a massive sports car collection or something similar,\" he told an Australian interviewer earlier this month. \"I don\\'t think I\\'ll be particularly extravagant. \"The things I like buying are things that cost about 10 pounds -- books and CDs and DVDs.\" At 18, Radcliffe will be able to gamble in a casino, buy a drink in a pub or see the horror film \"Hostel: Part II,\" currently six places below his number one movie on the UK box office chart. Details of how he\\'ll mark his landmark birthday are under wraps. His agent and publicist had no comment on his plans. \"I\\'ll definitely have some sort of party,\" he said in an interview. \"Hopefully none of you will be reading about it.\" Radcliffe\\'s earnings from the first five Potter films have been held in a trust fund which he has not been able to touch. Despite his growing fame and riches, the actor says he is keeping his feet firmly on the ground. \"People are always looking to say \\'kid star goes off the rails,\\'\" he told reporters last month. \"But I try very hard not to go that way because it would be too easy for them.\" His latest outing as the boy wizard in \"Harry Potter and the Order of the Phoenix\" is breaking records on both sides of the Atlantic and he will reprise the role in the last two films.  Watch I-Reporter give her review of Potter\\'s latest » . There is life beyond Potter, however. The Londoner has filmed a TV movie called \"My Boy Jack,\" about author Rudyard Kipling and his son, due for release later this year. He will also appear in \"December Boys,\" an Australian film about four boys who escape an orphanage. Earlier this year, he made his stage debut playing a tortured teenager in Peter Shaffer\\'s \"Equus.\" Meanwhile, he is braced for even closer media scrutiny now that he\\'s legally an adult: \"I just think I\\'m going to be more sort of fair game,\" he told Reuters. E-mail to a friend . Copyright 2007 Reuters. All rights reserved.This material may not be published, broadcast, rewritten, or redistributed.',\n",
              " 'highlights': \"Harry Potter star Daniel Radcliffe gets £20M fortune as he turns 18 Monday . Young actor says he has no plans to fritter his cash away . Radcliffe's earnings from first five Potter films have been held in trust fund .\",\n",
              " 'id': '42c027e4ff9730fbb3de84c1af0d2c506e41c3e4'}"
            ]
          },
          "metadata": {},
          "execution_count": 7
        }
      ]
    },
    {
      "cell_type": "code",
      "source": [
        "# load multi news\n",
        "multi_news = load_dataset('multi_news')"
      ],
      "metadata": {
        "colab": {
          "base_uri": "https://localhost:8080/",
          "height": 86,
          "referenced_widgets": [
            "c8932d3d9e3a45c1be1c775b6e3c9448",
            "eb7267406d7e4edfa7be3a22496420bc",
            "b4dfcdad2f7b4609a0a347ebe1593060",
            "f9dfa617057f4abd981e332098016c76",
            "74202404330f46cc94284c83b68d6384",
            "723769411b3c47abbdbb78d2b55b4457",
            "caf1aaa958614fe6b81b2ad80d39396a",
            "91e5e65b4ce640acbd50e4488df71108",
            "5707aaf8a1a24a7db9e7d4f47098394a",
            "78d3108c1ed24b53b39e410f5bdf6292",
            "5a75b91e0a964520ad597f733ac3c746"
          ]
        },
        "id": "8Gk8I0xYT45W",
        "outputId": "d576f96b-61da-420e-a452-75aa335e8e54"
      },
      "execution_count": 8,
      "outputs": [
        {
          "output_type": "stream",
          "name": "stderr",
          "text": [
            "WARNING:datasets.builder:Found cached dataset multi_news (/root/.cache/huggingface/datasets/multi_news/default/1.0.0/2f1f69a2bedc8ad1c5d8ae5148e4755ee7095f465c1c01ae8f85454342065a72)\n"
          ]
        },
        {
          "output_type": "display_data",
          "data": {
            "text/plain": [
              "  0%|          | 0/3 [00:00<?, ?it/s]"
            ],
            "application/vnd.jupyter.widget-view+json": {
              "version_major": 2,
              "version_minor": 0,
              "model_id": "c8932d3d9e3a45c1be1c775b6e3c9448"
            }
          },
          "metadata": {}
        }
      ]
    },
    {
      "cell_type": "code",
      "source": [
        "# # load stacked sum\n",
        "# stacked_sum = load_dataset('stacked-summaries/stacked-xsum')"
      ],
      "metadata": {
        "id": "fUPlmf-JYKP7"
      },
      "execution_count": 9,
      "outputs": []
    },
    {
      "cell_type": "code",
      "source": [
        "gigaword = load_dataset('gigaword')"
      ],
      "metadata": {
        "colab": {
          "base_uri": "https://localhost:8080/",
          "height": 86,
          "referenced_widgets": [
            "a75c53d7b0d14552b806b3b5fc884ebc",
            "3f6b2dfccc4145ca9dd91d3fbec0d6a2",
            "258edc3beea1434ab6b71e7e528657f1",
            "64c1a69dd3a04a57bed5bcf9d5b4cb14",
            "381e47a9be994b6ba0d96e6111093a38",
            "ba408c7dc3de40c798c0b86b8549e154",
            "0da9429cee7d424590a261a112d2281a",
            "6fceb49d62fe40a5b901d9b276615bd8",
            "aab7f390528a4626ba615b04343ce6d9",
            "4073401b12b9438e8119ea787e00a286",
            "88a100916d1543e7b9ade0a620a89c7b"
          ]
        },
        "id": "GGZVVpSuZeH-",
        "outputId": "5fa73652-44af-410a-8edb-4f1f3c852759"
      },
      "execution_count": 10,
      "outputs": [
        {
          "output_type": "stream",
          "name": "stderr",
          "text": [
            "WARNING:datasets.builder:Found cached dataset gigaword (/root/.cache/huggingface/datasets/gigaword/default/1.2.0/ea83a8b819190acac5f2dae011fad51dccf269a0604ec5dd24795b64efb424b6)\n"
          ]
        },
        {
          "output_type": "display_data",
          "data": {
            "text/plain": [
              "  0%|          | 0/3 [00:00<?, ?it/s]"
            ],
            "application/vnd.jupyter.widget-view+json": {
              "version_major": 2,
              "version_minor": 0,
              "model_id": "a75c53d7b0d14552b806b3b5fc884ebc"
            }
          },
          "metadata": {}
        }
      ]
    },
    {
      "cell_type": "code",
      "source": [
        "# rename columns to have same column names across datasets\n",
        "cnn = cnn.rename_column(\"highlights\", 'summary')\n",
        "cnn = cnn.rename_column(\"article\", 'document')"
      ],
      "metadata": {
        "id": "uIrImHNtfLPf"
      },
      "execution_count": 11,
      "outputs": []
    },
    {
      "cell_type": "code",
      "source": [
        "# delete irrelevant columns\n",
        "cnn = cnn.remove_columns(\"id\")\n",
        "# stacked_sum = stacked_sum.remove_columns(['id','chapter_length', 'summary_length',\\\n",
        "#                             'is_stacked'])"
      ],
      "metadata": {
        "id": "wiIAfW3mhCpH"
      },
      "execution_count": 12,
      "outputs": []
    },
    {
      "cell_type": "code",
      "source": [
        "from datasets.combine import concatenate_datasets"
      ],
      "metadata": {
        "id": "2T7HD1EaghjE"
      },
      "execution_count": 13,
      "outputs": []
    },
    {
      "cell_type": "code",
      "source": [
        "# concatenate all datasets\n",
        "train_data = concatenate_datasets([cnn['train'], multi_news['train'],\\\n",
        "                                   gigaword['train']])\n",
        "val_data = concatenate_datasets([cnn['validation'], multi_news['validation'],\\\n",
        "                                   gigaword['validation']])\n",
        "test_data = concatenate_datasets([cnn['test'], multi_news['test'],\\\n",
        "                                   gigaword['test']])"
      ],
      "metadata": {
        "id": "cLe5PhafclVH"
      },
      "execution_count": 14,
      "outputs": []
    },
    {
      "cell_type": "code",
      "source": [
        "# save data so we don't have to redownload every time\n",
        "\n",
        "# train_data.to_csv('train.csv')\n",
        "# val_data.to_csv('val.csv')\n",
        "# test_data.to_csv('test.csv')"
      ],
      "metadata": {
        "id": "SfQ79Vd1GQWL"
      },
      "execution_count": 15,
      "outputs": []
    },
    {
      "cell_type": "code",
      "source": [
        "train_data[0]"
      ],
      "metadata": {
        "colab": {
          "base_uri": "https://localhost:8080/"
        },
        "id": "_Ml1TIHgEPK3",
        "outputId": "6147123b-4e42-45ce-8b1f-b39374c15390"
      },
      "execution_count": 16,
      "outputs": [
        {
          "output_type": "execute_result",
          "data": {
            "text/plain": [
              "{'document': 'LONDON, England (Reuters) -- Harry Potter star Daniel Radcliffe gains access to a reported £20 million ($41.1 million) fortune as he turns 18 on Monday, but he insists the money won\\'t cast a spell on him. Daniel Radcliffe as Harry Potter in \"Harry Potter and the Order of the Phoenix\" To the disappointment of gossip columnists around the world, the young actor says he has no plans to fritter his cash away on fast cars, drink and celebrity parties. \"I don\\'t plan to be one of those people who, as soon as they turn 18, suddenly buy themselves a massive sports car collection or something similar,\" he told an Australian interviewer earlier this month. \"I don\\'t think I\\'ll be particularly extravagant. \"The things I like buying are things that cost about 10 pounds -- books and CDs and DVDs.\" At 18, Radcliffe will be able to gamble in a casino, buy a drink in a pub or see the horror film \"Hostel: Part II,\" currently six places below his number one movie on the UK box office chart. Details of how he\\'ll mark his landmark birthday are under wraps. His agent and publicist had no comment on his plans. \"I\\'ll definitely have some sort of party,\" he said in an interview. \"Hopefully none of you will be reading about it.\" Radcliffe\\'s earnings from the first five Potter films have been held in a trust fund which he has not been able to touch. Despite his growing fame and riches, the actor says he is keeping his feet firmly on the ground. \"People are always looking to say \\'kid star goes off the rails,\\'\" he told reporters last month. \"But I try very hard not to go that way because it would be too easy for them.\" His latest outing as the boy wizard in \"Harry Potter and the Order of the Phoenix\" is breaking records on both sides of the Atlantic and he will reprise the role in the last two films.  Watch I-Reporter give her review of Potter\\'s latest » . There is life beyond Potter, however. The Londoner has filmed a TV movie called \"My Boy Jack,\" about author Rudyard Kipling and his son, due for release later this year. He will also appear in \"December Boys,\" an Australian film about four boys who escape an orphanage. Earlier this year, he made his stage debut playing a tortured teenager in Peter Shaffer\\'s \"Equus.\" Meanwhile, he is braced for even closer media scrutiny now that he\\'s legally an adult: \"I just think I\\'m going to be more sort of fair game,\" he told Reuters. E-mail to a friend . Copyright 2007 Reuters. All rights reserved.This material may not be published, broadcast, rewritten, or redistributed.',\n",
              " 'summary': \"Harry Potter star Daniel Radcliffe gets £20M fortune as he turns 18 Monday . Young actor says he has no plans to fritter his cash away . Radcliffe's earnings from first five Potter films have been held in trust fund .\"}"
            ]
          },
          "metadata": {},
          "execution_count": 16
        }
      ]
    },
    {
      "cell_type": "markdown",
      "source": [
        "# Data Preparation"
      ],
      "metadata": {
        "id": "HGwB9Tza8JGZ"
      }
    },
    {
      "cell_type": "code",
      "source": [
        "import spacy\n",
        "import torchtext\n",
        "from torchtext.data.utils import get_tokenizer\n"
      ],
      "metadata": {
        "id": "xiHUEVVtxRJG"
      },
      "execution_count": 17,
      "outputs": []
    },
    {
      "cell_type": "code",
      "source": [
        "import locale\n",
        "locale.getpreferredencoding = lambda: \"UTF-8\""
      ],
      "metadata": {
        "id": "1e6vWtZf_aup"
      },
      "execution_count": 19,
      "outputs": []
    },
    {
      "cell_type": "code",
      "source": [
        "!wget https://repo.anaconda.com/miniconda/Miniconda3-latest-Linux-x86_64.sh\n",
        "!bash Miniconda3-latest-Linux-x86_64.sh"
      ],
      "metadata": {
        "id": "15cg3SbHCeqM"
      },
      "execution_count": null,
      "outputs": []
    },
    {
      "cell_type": "code",
      "source": [
        "!conda install -c nvidia/label/cuda10.0 -c rapidsai/label/cuda10.0 -c numba -c conda-forge -c defaults cudf"
      ],
      "metadata": {
        "id": "d90IJpMsDd20"
      },
      "execution_count": null,
      "outputs": []
    },
    {
      "cell_type": "code",
      "source": [
        "!git clone https://github.com/rapidsai/rapidsai-csp-utils.git\n",
        "!python rapidsai-csp-utils/colab/pip-install.py"
      ],
      "metadata": {
        "id": "qv8ysMpnI0hi"
      },
      "execution_count": null,
      "outputs": []
    },
    {
      "cell_type": "code",
      "source": [
        "!nvidia-smi"
      ],
      "metadata": {
        "colab": {
          "base_uri": "https://localhost:8080/"
        },
        "id": "Hb11eS1fKgv1",
        "outputId": "a7f56b8a-9036-4377-9079-eda9d444ea04"
      },
      "execution_count": 55,
      "outputs": [
        {
          "output_type": "stream",
          "name": "stdout",
          "text": [
            "Sun Apr  2 18:10:59 2023       \n",
            "+-----------------------------------------------------------------------------+\n",
            "| NVIDIA-SMI 525.85.12    Driver Version: 525.85.12    CUDA Version: 12.0     |\n",
            "|-------------------------------+----------------------+----------------------+\n",
            "| GPU  Name        Persistence-M| Bus-Id        Disp.A | Volatile Uncorr. ECC |\n",
            "| Fan  Temp  Perf  Pwr:Usage/Cap|         Memory-Usage | GPU-Util  Compute M. |\n",
            "|                               |                      |               MIG M. |\n",
            "|===============================+======================+======================|\n",
            "|   0  Tesla T4            Off  | 00000000:00:04.0 Off |                    0 |\n",
            "| N/A   77C    P0    34W /  70W |    397MiB / 15360MiB |      0%      Default |\n",
            "|                               |                      |                  N/A |\n",
            "+-------------------------------+----------------------+----------------------+\n",
            "                                                                               \n",
            "+-----------------------------------------------------------------------------+\n",
            "| Processes:                                                                  |\n",
            "|  GPU   GI   CI        PID   Type   Process name                  GPU Memory |\n",
            "|        ID   ID                                                   Usage      |\n",
            "|=============================================================================|\n",
            "+-----------------------------------------------------------------------------+\n"
          ]
        }
      ]
    },
    {
      "cell_type": "code",
      "source": [
        "import torch\n",
        "import cudf\n",
        "from cudf.utils.hash_vocab_utils import hash_vocab\n",
        "\n",
        "\n",
        "from cudf.core.subword_tokenizer import SubwordTokenizer"
      ],
      "metadata": {
        "colab": {
          "base_uri": "https://localhost:8080/"
        },
        "id": "f6ixtkq830On",
        "outputId": "33ce8626-baf7-44f5-df8d-459476c642e4"
      },
      "execution_count": 18,
      "outputs": [
        {
          "output_type": "stream",
          "name": "stderr",
          "text": [
            "/usr/local/lib/python3.9/dist-packages/rmm/__init__.py:56: FutureWarning: Use of 'rmm.RMMNumbaManager' is deprecated and will be removed. 'RMMNumbaManager' now lives in the 'rmm.allocators.numba' sub-module, please update your imports.\n",
            "  warnings.warn(\n",
            "/usr/local/lib/python3.9/dist-packages/rmm/__init__.py:56: FutureWarning: Use of 'rmm.rmm_cupy_allocator' is deprecated and will be removed. 'rmm_cupy_allocator' now lives in the 'rmm.allocators.cupy' sub-module, please update your imports.\n",
            "  warnings.warn(\n"
          ]
        }
      ]
    },
    {
      "cell_type": "code",
      "source": [
        "import pandas as pd"
      ],
      "metadata": {
        "id": "nvagu8v4_48V"
      },
      "execution_count": 19,
      "outputs": []
    },
    {
      "cell_type": "code",
      "source": [
        "# convert train_data to pandas dataframe\n",
        "train_data.set_format(\"pandas\")"
      ],
      "metadata": {
        "id": "wsemkv3S_m0L"
      },
      "execution_count": 20,
      "outputs": []
    },
    {
      "cell_type": "code",
      "source": [
        "# Convert in batches to preserve memory\n",
        "# Use only 1,000,000 data points for now\n",
        "batch_size = 50000\n",
        "df = train_data[0]\n",
        "batch = 1\n",
        "for i in range(1, 20):\n",
        "\n",
        "    tmp = train_data[batch:batch+batch_size]\n",
        "    batch += batch_size\n",
        "    df = pd.concat([df, tmp], axis=0)\n",
        "    "
      ],
      "metadata": {
        "id": "M01tjG1BO61N"
      },
      "execution_count": 21,
      "outputs": []
    },
    {
      "cell_type": "code",
      "source": [
        "df.reset_index()\n",
        "df = df.sample(frac=1, random_state=42)"
      ],
      "metadata": {
        "id": "d2iDoldYX4iT"
      },
      "execution_count": 22,
      "outputs": []
    },
    {
      "cell_type": "code",
      "source": [
        "import gc\n",
        "gc.collect()"
      ],
      "metadata": {
        "colab": {
          "base_uri": "https://localhost:8080/"
        },
        "id": "YNTKUVz7TDQC",
        "outputId": "ff79e90b-3411-4a3b-f54d-0a802e88c082"
      },
      "execution_count": 23,
      "outputs": [
        {
          "output_type": "execute_result",
          "data": {
            "text/plain": [
              "0"
            ]
          },
          "metadata": {},
          "execution_count": 23
        }
      ]
    },
    {
      "cell_type": "code",
      "source": [
        "df.head(3)"
      ],
      "metadata": {
        "colab": {
          "base_uri": "https://localhost:8080/",
          "height": 187
        },
        "id": "oEsqprtvQzQF",
        "outputId": "a262ec9a-f4cf-4eeb-f35a-c18335907d59"
      },
      "execution_count": 33,
      "outputs": [
        {
          "output_type": "execute_result",
          "data": {
            "text/plain": [
              "                                            document  \\\n",
              "0  LONDON, England (Reuters) -- Harry Potter star...   \n",
              "0  Editor's note: In our Behind the Scenes series...   \n",
              "1  MINNEAPOLIS, Minnesota (CNN) -- Drivers who we...   \n",
              "\n",
              "                                             summary  \n",
              "0  Harry Potter star Daniel Radcliffe gets £20M f...  \n",
              "0  Mentally ill inmates in Miami are housed on th...  \n",
              "1  NEW: \"I thought I was going to die,\" driver sa...  "
            ],
            "text/html": [
              "\n",
              "  <div id=\"df-9966aaef-61fd-4e4f-adef-ed1f2693ef47\">\n",
              "    <div class=\"colab-df-container\">\n",
              "      <div>\n",
              "<style scoped>\n",
              "    .dataframe tbody tr th:only-of-type {\n",
              "        vertical-align: middle;\n",
              "    }\n",
              "\n",
              "    .dataframe tbody tr th {\n",
              "        vertical-align: top;\n",
              "    }\n",
              "\n",
              "    .dataframe thead th {\n",
              "        text-align: right;\n",
              "    }\n",
              "</style>\n",
              "<table border=\"1\" class=\"dataframe\">\n",
              "  <thead>\n",
              "    <tr style=\"text-align: right;\">\n",
              "      <th></th>\n",
              "      <th>document</th>\n",
              "      <th>summary</th>\n",
              "    </tr>\n",
              "  </thead>\n",
              "  <tbody>\n",
              "    <tr>\n",
              "      <th>0</th>\n",
              "      <td>LONDON, England (Reuters) -- Harry Potter star...</td>\n",
              "      <td>Harry Potter star Daniel Radcliffe gets £20M f...</td>\n",
              "    </tr>\n",
              "    <tr>\n",
              "      <th>0</th>\n",
              "      <td>Editor's note: In our Behind the Scenes series...</td>\n",
              "      <td>Mentally ill inmates in Miami are housed on th...</td>\n",
              "    </tr>\n",
              "    <tr>\n",
              "      <th>1</th>\n",
              "      <td>MINNEAPOLIS, Minnesota (CNN) -- Drivers who we...</td>\n",
              "      <td>NEW: \"I thought I was going to die,\" driver sa...</td>\n",
              "    </tr>\n",
              "  </tbody>\n",
              "</table>\n",
              "</div>\n",
              "      <button class=\"colab-df-convert\" onclick=\"convertToInteractive('df-9966aaef-61fd-4e4f-adef-ed1f2693ef47')\"\n",
              "              title=\"Convert this dataframe to an interactive table.\"\n",
              "              style=\"display:none;\">\n",
              "        \n",
              "  <svg xmlns=\"http://www.w3.org/2000/svg\" height=\"24px\"viewBox=\"0 0 24 24\"\n",
              "       width=\"24px\">\n",
              "    <path d=\"M0 0h24v24H0V0z\" fill=\"none\"/>\n",
              "    <path d=\"M18.56 5.44l.94 2.06.94-2.06 2.06-.94-2.06-.94-.94-2.06-.94 2.06-2.06.94zm-11 1L8.5 8.5l.94-2.06 2.06-.94-2.06-.94L8.5 2.5l-.94 2.06-2.06.94zm10 10l.94 2.06.94-2.06 2.06-.94-2.06-.94-.94-2.06-.94 2.06-2.06.94z\"/><path d=\"M17.41 7.96l-1.37-1.37c-.4-.4-.92-.59-1.43-.59-.52 0-1.04.2-1.43.59L10.3 9.45l-7.72 7.72c-.78.78-.78 2.05 0 2.83L4 21.41c.39.39.9.59 1.41.59.51 0 1.02-.2 1.41-.59l7.78-7.78 2.81-2.81c.8-.78.8-2.07 0-2.86zM5.41 20L4 18.59l7.72-7.72 1.47 1.35L5.41 20z\"/>\n",
              "  </svg>\n",
              "      </button>\n",
              "      \n",
              "  <style>\n",
              "    .colab-df-container {\n",
              "      display:flex;\n",
              "      flex-wrap:wrap;\n",
              "      gap: 12px;\n",
              "    }\n",
              "\n",
              "    .colab-df-convert {\n",
              "      background-color: #E8F0FE;\n",
              "      border: none;\n",
              "      border-radius: 50%;\n",
              "      cursor: pointer;\n",
              "      display: none;\n",
              "      fill: #1967D2;\n",
              "      height: 32px;\n",
              "      padding: 0 0 0 0;\n",
              "      width: 32px;\n",
              "    }\n",
              "\n",
              "    .colab-df-convert:hover {\n",
              "      background-color: #E2EBFA;\n",
              "      box-shadow: 0px 1px 2px rgba(60, 64, 67, 0.3), 0px 1px 3px 1px rgba(60, 64, 67, 0.15);\n",
              "      fill: #174EA6;\n",
              "    }\n",
              "\n",
              "    [theme=dark] .colab-df-convert {\n",
              "      background-color: #3B4455;\n",
              "      fill: #D2E3FC;\n",
              "    }\n",
              "\n",
              "    [theme=dark] .colab-df-convert:hover {\n",
              "      background-color: #434B5C;\n",
              "      box-shadow: 0px 1px 3px 1px rgba(0, 0, 0, 0.15);\n",
              "      filter: drop-shadow(0px 1px 2px rgba(0, 0, 0, 0.3));\n",
              "      fill: #FFFFFF;\n",
              "    }\n",
              "  </style>\n",
              "\n",
              "      <script>\n",
              "        const buttonEl =\n",
              "          document.querySelector('#df-9966aaef-61fd-4e4f-adef-ed1f2693ef47 button.colab-df-convert');\n",
              "        buttonEl.style.display =\n",
              "          google.colab.kernel.accessAllowed ? 'block' : 'none';\n",
              "\n",
              "        async function convertToInteractive(key) {\n",
              "          const element = document.querySelector('#df-9966aaef-61fd-4e4f-adef-ed1f2693ef47');\n",
              "          const dataTable =\n",
              "            await google.colab.kernel.invokeFunction('convertToInteractive',\n",
              "                                                     [key], {});\n",
              "          if (!dataTable) return;\n",
              "\n",
              "          const docLinkHtml = 'Like what you see? Visit the ' +\n",
              "            '<a target=\"_blank\" href=https://colab.research.google.com/notebooks/data_table.ipynb>data table notebook</a>'\n",
              "            + ' to learn more about interactive tables.';\n",
              "          element.innerHTML = '';\n",
              "          dataTable['output_type'] = 'display_data';\n",
              "          await google.colab.output.renderOutput(dataTable, element);\n",
              "          const docLink = document.createElement('div');\n",
              "          docLink.innerHTML = docLinkHtml;\n",
              "          element.appendChild(docLink);\n",
              "        }\n",
              "      </script>\n",
              "    </div>\n",
              "  </div>\n",
              "  "
            ]
          },
          "metadata": {},
          "execution_count": 33
        }
      ]
    },
    {
      "cell_type": "code",
      "source": [
        "# convert from pandas to cudf to speed up processing\n",
        "# cudf uses gpu to tokenize data\n",
        "# convert in batches to preserve memory\n",
        "batch_size = 50000\n",
        "cdf = cudf.from_pandas(df[:2])\n",
        "\n",
        "batch = 1\n",
        "j = 2\n",
        "for i in range(2, 20):\n",
        "\n",
        "    tmp = cudf.from_pandas(df[batch:batch+batch_size])\n",
        "\n",
        "    batch += batch_size\n",
        "    j += 1\n",
        "    cdf = cudf.concat([cdf.copy(), tmp.copy()], axis=0)"
      ],
      "metadata": {
        "id": "HI4C9xr8SYD8"
      },
      "execution_count": 24,
      "outputs": []
    },
    {
      "cell_type": "code",
      "source": [
        "j"
      ],
      "metadata": {
        "colab": {
          "base_uri": "https://localhost:8080/"
        },
        "id": "xWjWRYJ4aOYr",
        "outputId": "bbc884ff-37c3-4a64-cbf4-7810820cc63d"
      },
      "execution_count": 55,
      "outputs": [
        {
          "output_type": "execute_result",
          "data": {
            "text/plain": [
              "20"
            ]
          },
          "metadata": {},
          "execution_count": 55
        }
      ]
    },
    {
      "cell_type": "code",
      "source": [
        "df.shape"
      ],
      "metadata": {
        "id": "8CD8VNNGbyr1"
      },
      "execution_count": null,
      "outputs": []
    },
    {
      "cell_type": "code",
      "source": [
        "cdf[:1]"
      ],
      "metadata": {
        "colab": {
          "base_uri": "https://localhost:8080/",
          "height": 81
        },
        "id": "v0aMLmqxfdSI",
        "outputId": "1dba5a72-3525-47bd-b19f-0c91b708ea8f"
      },
      "execution_count": 89,
      "outputs": [
        {
          "output_type": "execute_result",
          "data": {
            "text/plain": [
              "                                                document  \\\n",
              "85051  malaysia 's next leader , abdullah ahmad badaw...   \n",
              "\n",
              "                                                 summary  \n",
              "85051  malaysia 's future leader pledges to preserve ...  "
            ],
            "text/html": [
              "<div>\n",
              "<style scoped>\n",
              "    .dataframe tbody tr th:only-of-type {\n",
              "        vertical-align: middle;\n",
              "    }\n",
              "\n",
              "    .dataframe tbody tr th {\n",
              "        vertical-align: top;\n",
              "    }\n",
              "\n",
              "    .dataframe thead th {\n",
              "        text-align: right;\n",
              "    }\n",
              "</style>\n",
              "<table border=\"1\" class=\"dataframe\">\n",
              "  <thead>\n",
              "    <tr style=\"text-align: right;\">\n",
              "      <th></th>\n",
              "      <th>document</th>\n",
              "      <th>summary</th>\n",
              "    </tr>\n",
              "  </thead>\n",
              "  <tbody>\n",
              "    <tr>\n",
              "      <th>85051</th>\n",
              "      <td>malaysia 's next leader , abdullah ahmad badaw...</td>\n",
              "      <td>malaysia 's future leader pledges to preserve ...</td>\n",
              "    </tr>\n",
              "  </tbody>\n",
              "</table>\n",
              "</div>"
            ]
          },
          "metadata": {},
          "execution_count": 89
        }
      ]
    },
    {
      "cell_type": "code",
      "source": [
        "from collections import Counter"
      ],
      "metadata": {
        "id": "OPX5hVpgitlA"
      },
      "execution_count": 25,
      "outputs": []
    },
    {
      "cell_type": "code",
      "source": [
        "from torchtext.vocab import vocab"
      ],
      "metadata": {
        "id": "9shLyI7EproK"
      },
      "execution_count": 26,
      "outputs": []
    },
    {
      "cell_type": "code",
      "source": [
        "def build_vocab(df):\n",
        "    \"\"\"Build vocab objects for both document and summary\"\"\"\n",
        "    # vocabulary counters\n",
        "    tokens_doc = Counter()\n",
        "    tokens_sum = Counter()\n",
        "    # tokenize each column\n",
        "    t_doc = df['document'].str.tokenize().to_pandas()\n",
        "    t_sum = df['summary'].str.tokenize().to_pandas()\n",
        "\n",
        "    tokens_doc.update(t_doc.values)\n",
        "    tokens_sum.update(t_sum.values)\n",
        "\n",
        "\n",
        "    doc_vocab = vocab(tokens_doc, specials=['<unk>', '<pad>', '<bos>', '<eos>'])\n",
        "    summary_vocab = vocab(tokens_sum, specials=['<unk>', '<pad>', '<bos>', '<eos>'])\n",
        "\n",
        "    return doc_vocab, doc_vocab\n",
        "\n"
      ],
      "metadata": {
        "id": "IbySRQBqxjI3"
      },
      "execution_count": 27,
      "outputs": []
    },
    {
      "cell_type": "code",
      "source": [
        "doc_vocab, doc_vocab = build_vocab(cdf)"
      ],
      "metadata": {
        "id": "qsEWZN-_e2q1"
      },
      "execution_count": 28,
      "outputs": []
    },
    {
      "cell_type": "code",
      "source": [
        "doc_vocab.get_itos()[6]"
      ],
      "metadata": {
        "colab": {
          "base_uri": "https://localhost:8080/",
          "height": 36
        },
        "id": "2pg7j0C8v1Mm",
        "outputId": "17f88db5-56c5-4c72-c30a-1b991b2d43f9"
      },
      "execution_count": 198,
      "outputs": [
        {
          "output_type": "execute_result",
          "data": {
            "text/plain": [
              "'next'"
            ],
            "application/vnd.google.colaboratory.intrinsic+json": {
              "type": "string"
            }
          },
          "metadata": {},
          "execution_count": 198
        }
      ]
    },
    {
      "cell_type": "code",
      "source": [
        "def tokenize(d):\n",
        "    \"\"\"Generate tokens separately for document and summary\"\"\"\n",
        "    toks = {'document_tokens':[],  'summary_tokens':[]}\n",
        "    for i in range(len(d)):\n",
        "        t_doc = d.iloc[i]['document'].str.tokenize().to_pandas()\n",
        "        t_sum = d.iloc[i]['summary'].str.tokenize().to_pandas()\n",
        "\n",
        "        toks['document_tokens'].append(t_doc.values)\n",
        "        toks['summary_tokens'].append(t_sum.values)\n",
        "\n",
        "\n",
        "    return toks"
      ],
      "metadata": {
        "id": "41VX5hwrvhQE"
      },
      "execution_count": 42,
      "outputs": []
    },
    {
      "cell_type": "code",
      "source": [
        "data = pd.DataFrame({'document_tokens':[],  'summary_tokens':[]})\n",
        "data.astype('object')"
      ],
      "metadata": {
        "colab": {
          "base_uri": "https://localhost:8080/",
          "height": 49
        },
        "id": "lKVH27qf7OPw",
        "outputId": "99713b04-3352-4fe5-e548-efe3427fa2b2"
      },
      "execution_count": 39,
      "outputs": [
        {
          "output_type": "execute_result",
          "data": {
            "text/plain": [
              "Empty DataFrame\n",
              "Columns: [document_tokens, summary_tokens]\n",
              "Index: []"
            ],
            "text/html": [
              "\n",
              "  <div id=\"df-345dc4ea-87e0-49a9-a95f-3aed79937605\">\n",
              "    <div class=\"colab-df-container\">\n",
              "      <div>\n",
              "<style scoped>\n",
              "    .dataframe tbody tr th:only-of-type {\n",
              "        vertical-align: middle;\n",
              "    }\n",
              "\n",
              "    .dataframe tbody tr th {\n",
              "        vertical-align: top;\n",
              "    }\n",
              "\n",
              "    .dataframe thead th {\n",
              "        text-align: right;\n",
              "    }\n",
              "</style>\n",
              "<table border=\"1\" class=\"dataframe\">\n",
              "  <thead>\n",
              "    <tr style=\"text-align: right;\">\n",
              "      <th></th>\n",
              "      <th>document_tokens</th>\n",
              "      <th>summary_tokens</th>\n",
              "    </tr>\n",
              "  </thead>\n",
              "  <tbody>\n",
              "  </tbody>\n",
              "</table>\n",
              "</div>\n",
              "      <button class=\"colab-df-convert\" onclick=\"convertToInteractive('df-345dc4ea-87e0-49a9-a95f-3aed79937605')\"\n",
              "              title=\"Convert this dataframe to an interactive table.\"\n",
              "              style=\"display:none;\">\n",
              "        \n",
              "  <svg xmlns=\"http://www.w3.org/2000/svg\" height=\"24px\"viewBox=\"0 0 24 24\"\n",
              "       width=\"24px\">\n",
              "    <path d=\"M0 0h24v24H0V0z\" fill=\"none\"/>\n",
              "    <path d=\"M18.56 5.44l.94 2.06.94-2.06 2.06-.94-2.06-.94-.94-2.06-.94 2.06-2.06.94zm-11 1L8.5 8.5l.94-2.06 2.06-.94-2.06-.94L8.5 2.5l-.94 2.06-2.06.94zm10 10l.94 2.06.94-2.06 2.06-.94-2.06-.94-.94-2.06-.94 2.06-2.06.94z\"/><path d=\"M17.41 7.96l-1.37-1.37c-.4-.4-.92-.59-1.43-.59-.52 0-1.04.2-1.43.59L10.3 9.45l-7.72 7.72c-.78.78-.78 2.05 0 2.83L4 21.41c.39.39.9.59 1.41.59.51 0 1.02-.2 1.41-.59l7.78-7.78 2.81-2.81c.8-.78.8-2.07 0-2.86zM5.41 20L4 18.59l7.72-7.72 1.47 1.35L5.41 20z\"/>\n",
              "  </svg>\n",
              "      </button>\n",
              "      \n",
              "  <style>\n",
              "    .colab-df-container {\n",
              "      display:flex;\n",
              "      flex-wrap:wrap;\n",
              "      gap: 12px;\n",
              "    }\n",
              "\n",
              "    .colab-df-convert {\n",
              "      background-color: #E8F0FE;\n",
              "      border: none;\n",
              "      border-radius: 50%;\n",
              "      cursor: pointer;\n",
              "      display: none;\n",
              "      fill: #1967D2;\n",
              "      height: 32px;\n",
              "      padding: 0 0 0 0;\n",
              "      width: 32px;\n",
              "    }\n",
              "\n",
              "    .colab-df-convert:hover {\n",
              "      background-color: #E2EBFA;\n",
              "      box-shadow: 0px 1px 2px rgba(60, 64, 67, 0.3), 0px 1px 3px 1px rgba(60, 64, 67, 0.15);\n",
              "      fill: #174EA6;\n",
              "    }\n",
              "\n",
              "    [theme=dark] .colab-df-convert {\n",
              "      background-color: #3B4455;\n",
              "      fill: #D2E3FC;\n",
              "    }\n",
              "\n",
              "    [theme=dark] .colab-df-convert:hover {\n",
              "      background-color: #434B5C;\n",
              "      box-shadow: 0px 1px 3px 1px rgba(0, 0, 0, 0.15);\n",
              "      filter: drop-shadow(0px 1px 2px rgba(0, 0, 0, 0.3));\n",
              "      fill: #FFFFFF;\n",
              "    }\n",
              "  </style>\n",
              "\n",
              "      <script>\n",
              "        const buttonEl =\n",
              "          document.querySelector('#df-345dc4ea-87e0-49a9-a95f-3aed79937605 button.colab-df-convert');\n",
              "        buttonEl.style.display =\n",
              "          google.colab.kernel.accessAllowed ? 'block' : 'none';\n",
              "\n",
              "        async function convertToInteractive(key) {\n",
              "          const element = document.querySelector('#df-345dc4ea-87e0-49a9-a95f-3aed79937605');\n",
              "          const dataTable =\n",
              "            await google.colab.kernel.invokeFunction('convertToInteractive',\n",
              "                                                     [key], {});\n",
              "          if (!dataTable) return;\n",
              "\n",
              "          const docLinkHtml = 'Like what you see? Visit the ' +\n",
              "            '<a target=\"_blank\" href=https://colab.research.google.com/notebooks/data_table.ipynb>data table notebook</a>'\n",
              "            + ' to learn more about interactive tables.';\n",
              "          element.innerHTML = '';\n",
              "          dataTable['output_type'] = 'display_data';\n",
              "          await google.colab.output.renderOutput(dataTable, element);\n",
              "          const docLink = document.createElement('div');\n",
              "          docLink.innerHTML = docLinkHtml;\n",
              "          element.appendChild(docLink);\n",
              "        }\n",
              "      </script>\n",
              "    </div>\n",
              "  </div>\n",
              "  "
            ]
          },
          "metadata": {},
          "execution_count": 39
        }
      ]
    },
    {
      "cell_type": "code",
      "source": [
        "batch_size = 20000\n",
        "batch = 0\n",
        "for i in range(50):\n",
        "    t = tokenize(cdf[batch:batch+batch_size])\n",
        "    batch += batch_size\n",
        "    data = pd.concat([data, pd.DataFrame(t)], axis=0)\n",
        "    print(i)\n",
        "    gc.collect()\n",
        "data\n",
        "\n"
      ],
      "metadata": {
        "id": "Q4af-qgq2_7z"
      },
      "execution_count": null,
      "outputs": []
    },
    {
      "cell_type": "code",
      "source": [
        "from google.colab import drive\n",
        "drive.mount('/content/gdrive')"
      ],
      "metadata": {
        "colab": {
          "base_uri": "https://localhost:8080/"
        },
        "id": "XgwwTpvPrSwM",
        "outputId": "2f742b59-b807-476f-a79c-a5a0ac2dc508"
      },
      "execution_count": 44,
      "outputs": [
        {
          "output_type": "stream",
          "name": "stdout",
          "text": [
            "Mounted at /content/gdrive\n"
          ]
        }
      ]
    },
    {
      "cell_type": "code",
      "source": [
        "del gigaword\n",
        "del multi_news\n",
        "del cnn"
      ],
      "metadata": {
        "id": "Sw0l1Cwvrxpk"
      },
      "execution_count": 51,
      "outputs": []
    },
    {
      "cell_type": "code",
      "source": [
        "del train_data\n",
        "del test_data\n",
        "del val_data"
      ],
      "metadata": {
        "id": "Nxd7OQeisdSC"
      },
      "execution_count": 58,
      "outputs": []
    },
    {
      "cell_type": "code",
      "source": [
        "gc.collect()"
      ],
      "metadata": {
        "colab": {
          "base_uri": "https://localhost:8080/"
        },
        "id": "Gfz_1O8ttRW7",
        "outputId": "66805a91-f4dc-4409-e162-bd9b062e71a7"
      },
      "execution_count": 59,
      "outputs": [
        {
          "output_type": "execute_result",
          "data": {
            "text/plain": [
              "747"
            ]
          },
          "metadata": {},
          "execution_count": 59
        }
      ]
    },
    {
      "cell_type": "code",
      "source": [
        "data.to_csv('/content/gdrive/My Drive/tokenized_doc.csv')"
      ],
      "metadata": {
        "id": "Y2EOGKHtrnZI"
      },
      "execution_count": 65,
      "outputs": []
    },
    {
      "cell_type": "code",
      "source": [
        "data.to_pickle('/content/gdrive/My Drive/tokenized_doc.pkl')"
      ],
      "metadata": {
        "id": "r4Jk6liM7Fmd"
      },
      "execution_count": null,
      "outputs": []
    },
    {
      "cell_type": "code",
      "source": [
        "data"
      ],
      "metadata": {
        "id": "mBg2iGOZ1UpP"
      },
      "execution_count": null,
      "outputs": []
    },
    {
      "cell_type": "code",
      "source": [
        "from ast import literal_eval"
      ],
      "metadata": {
        "id": "czi-pWI35Z9Q"
      },
      "execution_count": 103,
      "outputs": []
    },
    {
      "cell_type": "code",
      "source": [
        "t = pd.read_csv('/content/gdrive/My Drive/tokenized_doc.csv', converters={'lists':literal_eval})"
      ],
      "metadata": {
        "id": "pxc7rhwv2_ZG"
      },
      "execution_count": 104,
      "outputs": []
    },
    {
      "cell_type": "code",
      "source": [
        "t"
      ],
      "metadata": {
        "colab": {
          "base_uri": "https://localhost:8080/",
          "height": 589
        },
        "id": "b7PM1mD53mIl",
        "outputId": "858d7f95-bf3f-4a64-bb72-0262ead76fa3"
      },
      "execution_count": 107,
      "outputs": [
        {
          "output_type": "execute_result",
          "data": {
            "text/plain": [
              "        Unnamed: 0                                    document_tokens  \\\n",
              "0                0  ['saudi' 'arabia' 'coach' 'nasser' 'UNK' 'has'...   \n",
              "1                0       ['(CNN)' '--' 'A' ... 'to' 'this' 'report.']   \n",
              "2                0   ['By' '.' 'Tom' ... 'military' '.' 'personnel.']   \n",
              "3                0  ['jailed' 'ex-president' 'chun' 'doo-hwan' \"'s...   \n",
              "4                0  ['italian' 'industrial' 'output' 'grew' 'by' '...   \n",
              "...            ...                                                ...   \n",
              "900036       19997  ['sony' 'corp.' 'plans' 'to' 'build' 'a' 'new'...   \n",
              "900037       19998  ['shares' 'in' 'lebanon' \"'s\" 'stock' 'market'...   \n",
              "900038       19999  ['less' 'than' 'a' 'month' 'after' 'his' 'stun...   \n",
              "900039           0  ['Romance' 'of' 'the' 'FA' 'Cup?' 'Not' 'for' ...   \n",
              "900040           1  ['Gary' 'Neville' 'has' 'urged' 'Manchester' '...   \n",
              "\n",
              "                                           summary_tokens  \n",
              "0                     ['saudis' 'drop' 'three' 'players']  \n",
              "1       ['NEW:' '\"The' 'church' 'is' 'finished,\"' 'vic...  \n",
              "2       [\"RAF's\" 'fearsome' 'Boeing' 'E-3D' 'Sentry' '...  \n",
              "3       ['chun' \"'s\" 'sons' 'sued' 'following' 'scuffl...  \n",
              "4       ['italian' 'industrial' 'output' 'rises' '#.#'...  \n",
              "...                                                   ...  \n",
              "900036  ['sony' 'plans' 'new' 'vietnam' 'plant' 'to' '...  \n",
              "900037  ['beirut' 'bourse' 'slides' 'after' 'hariri' \"...  \n",
              "900038  ['wladimir' 'klitschko' 'goes' 'on' 'legal' 'o...  \n",
              "900039  ['Liverpool' 'beat' 'Bolton' '2-1' 'in' 'FA' '...  \n",
              "900040  ['Gary' 'Neville' 'wants' 'Louis' 'van' 'Gaal'...  \n",
              "\n",
              "[900041 rows x 3 columns]"
            ],
            "text/html": [
              "\n",
              "  <div id=\"df-df1825a5-5c13-46f6-8838-d1fc1648f59b\">\n",
              "    <div class=\"colab-df-container\">\n",
              "      <div>\n",
              "<style scoped>\n",
              "    .dataframe tbody tr th:only-of-type {\n",
              "        vertical-align: middle;\n",
              "    }\n",
              "\n",
              "    .dataframe tbody tr th {\n",
              "        vertical-align: top;\n",
              "    }\n",
              "\n",
              "    .dataframe thead th {\n",
              "        text-align: right;\n",
              "    }\n",
              "</style>\n",
              "<table border=\"1\" class=\"dataframe\">\n",
              "  <thead>\n",
              "    <tr style=\"text-align: right;\">\n",
              "      <th></th>\n",
              "      <th>Unnamed: 0</th>\n",
              "      <th>document_tokens</th>\n",
              "      <th>summary_tokens</th>\n",
              "    </tr>\n",
              "  </thead>\n",
              "  <tbody>\n",
              "    <tr>\n",
              "      <th>0</th>\n",
              "      <td>0</td>\n",
              "      <td>['saudi' 'arabia' 'coach' 'nasser' 'UNK' 'has'...</td>\n",
              "      <td>['saudis' 'drop' 'three' 'players']</td>\n",
              "    </tr>\n",
              "    <tr>\n",
              "      <th>1</th>\n",
              "      <td>0</td>\n",
              "      <td>['(CNN)' '--' 'A' ... 'to' 'this' 'report.']</td>\n",
              "      <td>['NEW:' '\"The' 'church' 'is' 'finished,\"' 'vic...</td>\n",
              "    </tr>\n",
              "    <tr>\n",
              "      <th>2</th>\n",
              "      <td>0</td>\n",
              "      <td>['By' '.' 'Tom' ... 'military' '.' 'personnel.']</td>\n",
              "      <td>[\"RAF's\" 'fearsome' 'Boeing' 'E-3D' 'Sentry' '...</td>\n",
              "    </tr>\n",
              "    <tr>\n",
              "      <th>3</th>\n",
              "      <td>0</td>\n",
              "      <td>['jailed' 'ex-president' 'chun' 'doo-hwan' \"'s...</td>\n",
              "      <td>['chun' \"'s\" 'sons' 'sued' 'following' 'scuffl...</td>\n",
              "    </tr>\n",
              "    <tr>\n",
              "      <th>4</th>\n",
              "      <td>0</td>\n",
              "      <td>['italian' 'industrial' 'output' 'grew' 'by' '...</td>\n",
              "      <td>['italian' 'industrial' 'output' 'rises' '#.#'...</td>\n",
              "    </tr>\n",
              "    <tr>\n",
              "      <th>...</th>\n",
              "      <td>...</td>\n",
              "      <td>...</td>\n",
              "      <td>...</td>\n",
              "    </tr>\n",
              "    <tr>\n",
              "      <th>900036</th>\n",
              "      <td>19997</td>\n",
              "      <td>['sony' 'corp.' 'plans' 'to' 'build' 'a' 'new'...</td>\n",
              "      <td>['sony' 'plans' 'new' 'vietnam' 'plant' 'to' '...</td>\n",
              "    </tr>\n",
              "    <tr>\n",
              "      <th>900037</th>\n",
              "      <td>19998</td>\n",
              "      <td>['shares' 'in' 'lebanon' \"'s\" 'stock' 'market'...</td>\n",
              "      <td>['beirut' 'bourse' 'slides' 'after' 'hariri' \"...</td>\n",
              "    </tr>\n",
              "    <tr>\n",
              "      <th>900038</th>\n",
              "      <td>19999</td>\n",
              "      <td>['less' 'than' 'a' 'month' 'after' 'his' 'stun...</td>\n",
              "      <td>['wladimir' 'klitschko' 'goes' 'on' 'legal' 'o...</td>\n",
              "    </tr>\n",
              "    <tr>\n",
              "      <th>900039</th>\n",
              "      <td>0</td>\n",
              "      <td>['Romance' 'of' 'the' 'FA' 'Cup?' 'Not' 'for' ...</td>\n",
              "      <td>['Liverpool' 'beat' 'Bolton' '2-1' 'in' 'FA' '...</td>\n",
              "    </tr>\n",
              "    <tr>\n",
              "      <th>900040</th>\n",
              "      <td>1</td>\n",
              "      <td>['Gary' 'Neville' 'has' 'urged' 'Manchester' '...</td>\n",
              "      <td>['Gary' 'Neville' 'wants' 'Louis' 'van' 'Gaal'...</td>\n",
              "    </tr>\n",
              "  </tbody>\n",
              "</table>\n",
              "<p>900041 rows × 3 columns</p>\n",
              "</div>\n",
              "      <button class=\"colab-df-convert\" onclick=\"convertToInteractive('df-df1825a5-5c13-46f6-8838-d1fc1648f59b')\"\n",
              "              title=\"Convert this dataframe to an interactive table.\"\n",
              "              style=\"display:none;\">\n",
              "        \n",
              "  <svg xmlns=\"http://www.w3.org/2000/svg\" height=\"24px\"viewBox=\"0 0 24 24\"\n",
              "       width=\"24px\">\n",
              "    <path d=\"M0 0h24v24H0V0z\" fill=\"none\"/>\n",
              "    <path d=\"M18.56 5.44l.94 2.06.94-2.06 2.06-.94-2.06-.94-.94-2.06-.94 2.06-2.06.94zm-11 1L8.5 8.5l.94-2.06 2.06-.94-2.06-.94L8.5 2.5l-.94 2.06-2.06.94zm10 10l.94 2.06.94-2.06 2.06-.94-2.06-.94-.94-2.06-.94 2.06-2.06.94z\"/><path d=\"M17.41 7.96l-1.37-1.37c-.4-.4-.92-.59-1.43-.59-.52 0-1.04.2-1.43.59L10.3 9.45l-7.72 7.72c-.78.78-.78 2.05 0 2.83L4 21.41c.39.39.9.59 1.41.59.51 0 1.02-.2 1.41-.59l7.78-7.78 2.81-2.81c.8-.78.8-2.07 0-2.86zM5.41 20L4 18.59l7.72-7.72 1.47 1.35L5.41 20z\"/>\n",
              "  </svg>\n",
              "      </button>\n",
              "      \n",
              "  <style>\n",
              "    .colab-df-container {\n",
              "      display:flex;\n",
              "      flex-wrap:wrap;\n",
              "      gap: 12px;\n",
              "    }\n",
              "\n",
              "    .colab-df-convert {\n",
              "      background-color: #E8F0FE;\n",
              "      border: none;\n",
              "      border-radius: 50%;\n",
              "      cursor: pointer;\n",
              "      display: none;\n",
              "      fill: #1967D2;\n",
              "      height: 32px;\n",
              "      padding: 0 0 0 0;\n",
              "      width: 32px;\n",
              "    }\n",
              "\n",
              "    .colab-df-convert:hover {\n",
              "      background-color: #E2EBFA;\n",
              "      box-shadow: 0px 1px 2px rgba(60, 64, 67, 0.3), 0px 1px 3px 1px rgba(60, 64, 67, 0.15);\n",
              "      fill: #174EA6;\n",
              "    }\n",
              "\n",
              "    [theme=dark] .colab-df-convert {\n",
              "      background-color: #3B4455;\n",
              "      fill: #D2E3FC;\n",
              "    }\n",
              "\n",
              "    [theme=dark] .colab-df-convert:hover {\n",
              "      background-color: #434B5C;\n",
              "      box-shadow: 0px 1px 3px 1px rgba(0, 0, 0, 0.15);\n",
              "      filter: drop-shadow(0px 1px 2px rgba(0, 0, 0, 0.3));\n",
              "      fill: #FFFFFF;\n",
              "    }\n",
              "  </style>\n",
              "\n",
              "      <script>\n",
              "        const buttonEl =\n",
              "          document.querySelector('#df-df1825a5-5c13-46f6-8838-d1fc1648f59b button.colab-df-convert');\n",
              "        buttonEl.style.display =\n",
              "          google.colab.kernel.accessAllowed ? 'block' : 'none';\n",
              "\n",
              "        async function convertToInteractive(key) {\n",
              "          const element = document.querySelector('#df-df1825a5-5c13-46f6-8838-d1fc1648f59b');\n",
              "          const dataTable =\n",
              "            await google.colab.kernel.invokeFunction('convertToInteractive',\n",
              "                                                     [key], {});\n",
              "          if (!dataTable) return;\n",
              "\n",
              "          const docLinkHtml = 'Like what you see? Visit the ' +\n",
              "            '<a target=\"_blank\" href=https://colab.research.google.com/notebooks/data_table.ipynb>data table notebook</a>'\n",
              "            + ' to learn more about interactive tables.';\n",
              "          element.innerHTML = '';\n",
              "          dataTable['output_type'] = 'display_data';\n",
              "          await google.colab.output.renderOutput(dataTable, element);\n",
              "          const docLink = document.createElement('div');\n",
              "          docLink.innerHTML = docLinkHtml;\n",
              "          element.appendChild(docLink);\n",
              "        }\n",
              "      </script>\n",
              "    </div>\n",
              "  </div>\n",
              "  "
            ]
          },
          "metadata": {},
          "execution_count": 107
        }
      ]
    },
    {
      "cell_type": "code",
      "source": [
        "df.iloc[30:40]"
      ],
      "metadata": {
        "id": "GKNTQbI81zdj"
      },
      "execution_count": null,
      "outputs": []
    },
    {
      "cell_type": "code",
      "source": [
        "df[:2]['document'] = df.apply(lambda row: tokenizer(row['document']), axis=1)"
      ],
      "metadata": {
        "colab": {
          "base_uri": "https://localhost:8080/",
          "height": 311
        },
        "id": "mzyVdOgUvTE3",
        "outputId": "30b942ca-f44e-402a-d55e-c887b05222da"
      },
      "execution_count": 217,
      "outputs": [
        {
          "output_type": "error",
          "ename": "KeyboardInterrupt",
          "evalue": "ignored",
          "traceback": [
            "\u001b[0;31m---------------------------------------------------------------------------\u001b[0m",
            "\u001b[0;31mKeyboardInterrupt\u001b[0m                         Traceback (most recent call last)",
            "\u001b[0;32m<ipython-input-217-81c04b035eaf>\u001b[0m in \u001b[0;36m<cell line: 1>\u001b[0;34m()\u001b[0m\n\u001b[0;32m----> 1\u001b[0;31m \u001b[0mdf\u001b[0m\u001b[0;34m[\u001b[0m\u001b[0;34m:\u001b[0m\u001b[0;36m2\u001b[0m\u001b[0;34m]\u001b[0m\u001b[0;34m[\u001b[0m\u001b[0;34m'document'\u001b[0m\u001b[0;34m]\u001b[0m \u001b[0;34m=\u001b[0m \u001b[0mdf\u001b[0m\u001b[0;34m.\u001b[0m\u001b[0mapply\u001b[0m\u001b[0;34m(\u001b[0m\u001b[0;32mlambda\u001b[0m \u001b[0mrow\u001b[0m\u001b[0;34m:\u001b[0m \u001b[0mtokenizer\u001b[0m\u001b[0;34m(\u001b[0m\u001b[0mrow\u001b[0m\u001b[0;34m[\u001b[0m\u001b[0;34m'document'\u001b[0m\u001b[0;34m]\u001b[0m\u001b[0;34m)\u001b[0m\u001b[0;34m,\u001b[0m \u001b[0maxis\u001b[0m\u001b[0;34m=\u001b[0m\u001b[0;36m1\u001b[0m\u001b[0;34m)\u001b[0m\u001b[0;34m\u001b[0m\u001b[0;34m\u001b[0m\u001b[0m\n\u001b[0m",
            "\u001b[0;32m/usr/local/lib/python3.9/dist-packages/pandas/core/frame.py\u001b[0m in \u001b[0;36mapply\u001b[0;34m(self, func, axis, raw, result_type, args, **kwargs)\u001b[0m\n\u001b[1;32m   8846\u001b[0m             \u001b[0mkwargs\u001b[0m\u001b[0;34m=\u001b[0m\u001b[0mkwargs\u001b[0m\u001b[0;34m,\u001b[0m\u001b[0;34m\u001b[0m\u001b[0;34m\u001b[0m\u001b[0m\n\u001b[1;32m   8847\u001b[0m         )\n\u001b[0;32m-> 8848\u001b[0;31m         \u001b[0;32mreturn\u001b[0m \u001b[0mop\u001b[0m\u001b[0;34m.\u001b[0m\u001b[0mapply\u001b[0m\u001b[0;34m(\u001b[0m\u001b[0;34m)\u001b[0m\u001b[0;34m.\u001b[0m\u001b[0m__finalize__\u001b[0m\u001b[0;34m(\u001b[0m\u001b[0mself\u001b[0m\u001b[0;34m,\u001b[0m \u001b[0mmethod\u001b[0m\u001b[0;34m=\u001b[0m\u001b[0;34m\"apply\"\u001b[0m\u001b[0;34m)\u001b[0m\u001b[0;34m\u001b[0m\u001b[0;34m\u001b[0m\u001b[0m\n\u001b[0m\u001b[1;32m   8849\u001b[0m \u001b[0;34m\u001b[0m\u001b[0m\n\u001b[1;32m   8850\u001b[0m     def applymap(\n",
            "\u001b[0;32m/usr/local/lib/python3.9/dist-packages/pandas/core/apply.py\u001b[0m in \u001b[0;36mapply\u001b[0;34m(self)\u001b[0m\n\u001b[1;32m    731\u001b[0m             \u001b[0;32mreturn\u001b[0m \u001b[0mself\u001b[0m\u001b[0;34m.\u001b[0m\u001b[0mapply_raw\u001b[0m\u001b[0;34m(\u001b[0m\u001b[0;34m)\u001b[0m\u001b[0;34m\u001b[0m\u001b[0;34m\u001b[0m\u001b[0m\n\u001b[1;32m    732\u001b[0m \u001b[0;34m\u001b[0m\u001b[0m\n\u001b[0;32m--> 733\u001b[0;31m         \u001b[0;32mreturn\u001b[0m \u001b[0mself\u001b[0m\u001b[0;34m.\u001b[0m\u001b[0mapply_standard\u001b[0m\u001b[0;34m(\u001b[0m\u001b[0;34m)\u001b[0m\u001b[0;34m\u001b[0m\u001b[0;34m\u001b[0m\u001b[0m\n\u001b[0m\u001b[1;32m    734\u001b[0m \u001b[0;34m\u001b[0m\u001b[0m\n\u001b[1;32m    735\u001b[0m     \u001b[0;32mdef\u001b[0m \u001b[0magg\u001b[0m\u001b[0;34m(\u001b[0m\u001b[0mself\u001b[0m\u001b[0;34m)\u001b[0m\u001b[0;34m:\u001b[0m\u001b[0;34m\u001b[0m\u001b[0;34m\u001b[0m\u001b[0m\n",
            "\u001b[0;32m/usr/local/lib/python3.9/dist-packages/pandas/core/apply.py\u001b[0m in \u001b[0;36mapply_standard\u001b[0;34m(self)\u001b[0m\n\u001b[1;32m    855\u001b[0m \u001b[0;34m\u001b[0m\u001b[0m\n\u001b[1;32m    856\u001b[0m     \u001b[0;32mdef\u001b[0m \u001b[0mapply_standard\u001b[0m\u001b[0;34m(\u001b[0m\u001b[0mself\u001b[0m\u001b[0;34m)\u001b[0m\u001b[0;34m:\u001b[0m\u001b[0;34m\u001b[0m\u001b[0;34m\u001b[0m\u001b[0m\n\u001b[0;32m--> 857\u001b[0;31m         \u001b[0mresults\u001b[0m\u001b[0;34m,\u001b[0m \u001b[0mres_index\u001b[0m \u001b[0;34m=\u001b[0m \u001b[0mself\u001b[0m\u001b[0;34m.\u001b[0m\u001b[0mapply_series_generator\u001b[0m\u001b[0;34m(\u001b[0m\u001b[0;34m)\u001b[0m\u001b[0;34m\u001b[0m\u001b[0;34m\u001b[0m\u001b[0m\n\u001b[0m\u001b[1;32m    858\u001b[0m \u001b[0;34m\u001b[0m\u001b[0m\n\u001b[1;32m    859\u001b[0m         \u001b[0;31m# wrap results\u001b[0m\u001b[0;34m\u001b[0m\u001b[0;34m\u001b[0m\u001b[0m\n",
            "\u001b[0;32m/usr/local/lib/python3.9/dist-packages/pandas/core/apply.py\u001b[0m in \u001b[0;36mapply_series_generator\u001b[0;34m(self)\u001b[0m\n\u001b[1;32m    871\u001b[0m             \u001b[0;32mfor\u001b[0m \u001b[0mi\u001b[0m\u001b[0;34m,\u001b[0m \u001b[0mv\u001b[0m \u001b[0;32min\u001b[0m \u001b[0menumerate\u001b[0m\u001b[0;34m(\u001b[0m\u001b[0mseries_gen\u001b[0m\u001b[0;34m)\u001b[0m\u001b[0;34m:\u001b[0m\u001b[0;34m\u001b[0m\u001b[0;34m\u001b[0m\u001b[0m\n\u001b[1;32m    872\u001b[0m                 \u001b[0;31m# ignore SettingWithCopy here in case the user mutates\u001b[0m\u001b[0;34m\u001b[0m\u001b[0;34m\u001b[0m\u001b[0m\n\u001b[0;32m--> 873\u001b[0;31m                 \u001b[0mresults\u001b[0m\u001b[0;34m[\u001b[0m\u001b[0mi\u001b[0m\u001b[0;34m]\u001b[0m \u001b[0;34m=\u001b[0m \u001b[0mself\u001b[0m\u001b[0;34m.\u001b[0m\u001b[0mf\u001b[0m\u001b[0;34m(\u001b[0m\u001b[0mv\u001b[0m\u001b[0;34m)\u001b[0m\u001b[0;34m\u001b[0m\u001b[0;34m\u001b[0m\u001b[0m\n\u001b[0m\u001b[1;32m    874\u001b[0m                 \u001b[0;32mif\u001b[0m \u001b[0misinstance\u001b[0m\u001b[0;34m(\u001b[0m\u001b[0mresults\u001b[0m\u001b[0;34m[\u001b[0m\u001b[0mi\u001b[0m\u001b[0;34m]\u001b[0m\u001b[0;34m,\u001b[0m \u001b[0mABCSeries\u001b[0m\u001b[0;34m)\u001b[0m\u001b[0;34m:\u001b[0m\u001b[0;34m\u001b[0m\u001b[0;34m\u001b[0m\u001b[0m\n\u001b[1;32m    875\u001b[0m                     \u001b[0;31m# If we have a view on v, we need to make a copy because\u001b[0m\u001b[0;34m\u001b[0m\u001b[0;34m\u001b[0m\u001b[0m\n",
            "\u001b[0;32m<ipython-input-217-81c04b035eaf>\u001b[0m in \u001b[0;36m<lambda>\u001b[0;34m(row)\u001b[0m\n\u001b[0;32m----> 1\u001b[0;31m \u001b[0mdf\u001b[0m\u001b[0;34m[\u001b[0m\u001b[0;34m:\u001b[0m\u001b[0;36m2\u001b[0m\u001b[0;34m]\u001b[0m\u001b[0;34m[\u001b[0m\u001b[0;34m'document'\u001b[0m\u001b[0;34m]\u001b[0m \u001b[0;34m=\u001b[0m \u001b[0mdf\u001b[0m\u001b[0;34m.\u001b[0m\u001b[0mapply\u001b[0m\u001b[0;34m(\u001b[0m\u001b[0;32mlambda\u001b[0m \u001b[0mrow\u001b[0m\u001b[0;34m:\u001b[0m \u001b[0mtokenizer\u001b[0m\u001b[0;34m(\u001b[0m\u001b[0mrow\u001b[0m\u001b[0;34m[\u001b[0m\u001b[0;34m'document'\u001b[0m\u001b[0;34m]\u001b[0m\u001b[0;34m)\u001b[0m\u001b[0;34m,\u001b[0m \u001b[0maxis\u001b[0m\u001b[0;34m=\u001b[0m\u001b[0;36m1\u001b[0m\u001b[0;34m)\u001b[0m\u001b[0;34m\u001b[0m\u001b[0;34m\u001b[0m\u001b[0m\n\u001b[0m",
            "\u001b[0;32m/usr/local/lib/python3.9/dist-packages/torchtext/data/utils.py\u001b[0m in \u001b[0;36m_spacy_tokenize\u001b[0;34m(x, spacy)\u001b[0m\n\u001b[1;32m     12\u001b[0m \u001b[0;34m\u001b[0m\u001b[0m\n\u001b[1;32m     13\u001b[0m \u001b[0;32mdef\u001b[0m \u001b[0m_spacy_tokenize\u001b[0m\u001b[0;34m(\u001b[0m\u001b[0mx\u001b[0m\u001b[0;34m,\u001b[0m \u001b[0mspacy\u001b[0m\u001b[0;34m)\u001b[0m\u001b[0;34m:\u001b[0m\u001b[0;34m\u001b[0m\u001b[0;34m\u001b[0m\u001b[0m\n\u001b[0;32m---> 14\u001b[0;31m     \u001b[0;32mreturn\u001b[0m \u001b[0;34m[\u001b[0m\u001b[0mtok\u001b[0m\u001b[0;34m.\u001b[0m\u001b[0mtext\u001b[0m \u001b[0;32mfor\u001b[0m \u001b[0mtok\u001b[0m \u001b[0;32min\u001b[0m \u001b[0mspacy\u001b[0m\u001b[0;34m.\u001b[0m\u001b[0mtokenizer\u001b[0m\u001b[0;34m(\u001b[0m\u001b[0mx\u001b[0m\u001b[0;34m)\u001b[0m\u001b[0;34m]\u001b[0m\u001b[0;34m\u001b[0m\u001b[0;34m\u001b[0m\u001b[0m\n\u001b[0m\u001b[1;32m     15\u001b[0m \u001b[0;34m\u001b[0m\u001b[0m\n\u001b[1;32m     16\u001b[0m \u001b[0;34m\u001b[0m\u001b[0m\n",
            "\u001b[0;32m/usr/local/lib/python3.9/dist-packages/spacy/tokenizer.pyx\u001b[0m in \u001b[0;36mspacy.tokenizer.Tokenizer.__call__\u001b[0;34m()\u001b[0m\n",
            "\u001b[0;32m/usr/local/lib/python3.9/dist-packages/spacy/tokenizer.pyx\u001b[0m in \u001b[0;36mspacy.tokenizer.Tokenizer._tokenize_affixes\u001b[0;34m()\u001b[0m\n",
            "\u001b[0;32m/usr/local/lib/python3.9/dist-packages/spacy/tokenizer.pyx\u001b[0m in \u001b[0;36mspacy.tokenizer.Tokenizer._tokenize\u001b[0;34m()\u001b[0m\n",
            "\u001b[0;32m/usr/local/lib/python3.9/dist-packages/spacy/tokenizer.pyx\u001b[0m in \u001b[0;36mspacy.tokenizer.Tokenizer._attach_tokens\u001b[0;34m()\u001b[0m\n",
            "\u001b[0;32m/usr/local/lib/python3.9/dist-packages/spacy/vocab.pyx\u001b[0m in \u001b[0;36mspacy.vocab.Vocab.get\u001b[0;34m()\u001b[0m\n",
            "\u001b[0;32m/usr/local/lib/python3.9/dist-packages/spacy/vocab.pyx\u001b[0m in \u001b[0;36mspacy.vocab.Vocab._new_lexeme\u001b[0;34m()\u001b[0m\n",
            "\u001b[0;32m/usr/local/lib/python3.9/dist-packages/spacy/lang/lex_attrs.py\u001b[0m in \u001b[0;36mlower\u001b[0;34m(string)\u001b[0m\n\u001b[1;32m    143\u001b[0m \u001b[0;34m\u001b[0m\u001b[0m\n\u001b[1;32m    144\u001b[0m \u001b[0;34m\u001b[0m\u001b[0m\n\u001b[0;32m--> 145\u001b[0;31m \u001b[0;32mdef\u001b[0m \u001b[0mlower\u001b[0m\u001b[0;34m(\u001b[0m\u001b[0mstring\u001b[0m\u001b[0;34m:\u001b[0m \u001b[0mstr\u001b[0m\u001b[0;34m)\u001b[0m \u001b[0;34m->\u001b[0m \u001b[0mstr\u001b[0m\u001b[0;34m:\u001b[0m\u001b[0;34m\u001b[0m\u001b[0;34m\u001b[0m\u001b[0m\n\u001b[0m\u001b[1;32m    146\u001b[0m     \u001b[0;32mreturn\u001b[0m \u001b[0mstring\u001b[0m\u001b[0;34m.\u001b[0m\u001b[0mlower\u001b[0m\u001b[0;34m(\u001b[0m\u001b[0;34m)\u001b[0m\u001b[0;34m\u001b[0m\u001b[0;34m\u001b[0m\u001b[0m\n\u001b[1;32m    147\u001b[0m \u001b[0;34m\u001b[0m\u001b[0m\n",
            "\u001b[0;31mKeyboardInterrupt\u001b[0m: "
          ]
        }
      ]
    },
    {
      "cell_type": "code",
      "source": [
        "doc_vocab"
      ],
      "metadata": {
        "id": "o8q_2zWvtHkE"
      },
      "execution_count": 168,
      "outputs": []
    },
    {
      "cell_type": "code",
      "source": [
        "t_doc"
      ],
      "metadata": {
        "colab": {
          "base_uri": "https://localhost:8080/",
          "height": 423
        },
        "id": "h-8UxzbRs0f8",
        "outputId": "3d6009f7-4800-4c93-b52a-a26156033e0b"
      },
      "execution_count": 163,
      "outputs": [
        {
          "output_type": "execute_result",
          "data": {
            "text/plain": [
              "    document\n",
              "0   malaysia\n",
              "1         's\n",
              "2       next\n",
              "3     leader\n",
              "4          ,\n",
              "..       ...\n",
              "75        in\n",
              "76       its\n",
              "77  refining\n",
              "78    sector\n",
              "79         .\n",
              "\n",
              "[80 rows x 1 columns]"
            ],
            "text/html": [
              "<div>\n",
              "<style scoped>\n",
              "    .dataframe tbody tr th:only-of-type {\n",
              "        vertical-align: middle;\n",
              "    }\n",
              "\n",
              "    .dataframe tbody tr th {\n",
              "        vertical-align: top;\n",
              "    }\n",
              "\n",
              "    .dataframe thead th {\n",
              "        text-align: right;\n",
              "    }\n",
              "</style>\n",
              "<table border=\"1\" class=\"dataframe\">\n",
              "  <thead>\n",
              "    <tr style=\"text-align: right;\">\n",
              "      <th></th>\n",
              "      <th>document</th>\n",
              "    </tr>\n",
              "  </thead>\n",
              "  <tbody>\n",
              "    <tr>\n",
              "      <th>0</th>\n",
              "      <td>malaysia</td>\n",
              "    </tr>\n",
              "    <tr>\n",
              "      <th>1</th>\n",
              "      <td>'s</td>\n",
              "    </tr>\n",
              "    <tr>\n",
              "      <th>2</th>\n",
              "      <td>next</td>\n",
              "    </tr>\n",
              "    <tr>\n",
              "      <th>3</th>\n",
              "      <td>leader</td>\n",
              "    </tr>\n",
              "    <tr>\n",
              "      <th>4</th>\n",
              "      <td>,</td>\n",
              "    </tr>\n",
              "    <tr>\n",
              "      <th>...</th>\n",
              "      <td>...</td>\n",
              "    </tr>\n",
              "    <tr>\n",
              "      <th>75</th>\n",
              "      <td>in</td>\n",
              "    </tr>\n",
              "    <tr>\n",
              "      <th>76</th>\n",
              "      <td>its</td>\n",
              "    </tr>\n",
              "    <tr>\n",
              "      <th>77</th>\n",
              "      <td>refining</td>\n",
              "    </tr>\n",
              "    <tr>\n",
              "      <th>78</th>\n",
              "      <td>sector</td>\n",
              "    </tr>\n",
              "    <tr>\n",
              "      <th>79</th>\n",
              "      <td>.</td>\n",
              "    </tr>\n",
              "  </tbody>\n",
              "</table>\n",
              "<p>80 rows × 1 columns</p>\n",
              "</div>"
            ]
          },
          "metadata": {},
          "execution_count": 163
        }
      ]
    },
    {
      "cell_type": "code",
      "source": [
        "len(val_data['document'])"
      ],
      "metadata": {
        "colab": {
          "base_uri": "https://localhost:8080/"
        },
        "id": "bZWeTdU6IlAj",
        "outputId": "cfc6bc38-9d3c-4071-d324-ca2099efed7a"
      },
      "execution_count": 21,
      "outputs": [
        {
          "output_type": "execute_result",
          "data": {
            "text/plain": [
              "231304"
            ]
          },
          "metadata": {},
          "execution_count": 21
        }
      ]
    },
    {
      "cell_type": "code",
      "source": [
        "from torchtext.vocab import vocab\n",
        "from torchtext.vocab import Vocab\n",
        "from collections import Counter"
      ],
      "metadata": {
        "id": "1u0FAeWxM_mI"
      },
      "execution_count": 99,
      "outputs": []
    },
    {
      "cell_type": "code",
      "source": [],
      "metadata": {
        "id": "PDG5VuN7ACc8"
      },
      "execution_count": null,
      "outputs": []
    },
    {
      "cell_type": "code",
      "source": [],
      "metadata": {
        "id": "7Bjmf0Y5ACZ4"
      },
      "execution_count": null,
      "outputs": []
    },
    {
      "cell_type": "code",
      "source": [],
      "metadata": {
        "id": "TZ5tP4GHACUk"
      },
      "execution_count": null,
      "outputs": []
    },
    {
      "cell_type": "code",
      "source": [],
      "metadata": {
        "id": "CZvE7-APACR3"
      },
      "execution_count": null,
      "outputs": []
    },
    {
      "cell_type": "code",
      "source": [],
      "metadata": {
        "id": "g0l7ZoXwACLG"
      },
      "execution_count": null,
      "outputs": []
    },
    {
      "cell_type": "code",
      "source": [
        "def generate_vocab(x):\n",
        "    ''' Create input vocabulary and tokenize data '''\n",
        "    tokens_doc = Counter()\n",
        "    tokens_sum = Counter()\n",
        "    # tokenized[col] = []\n",
        "    # for i in range(2):\n",
        "    #     try:\n",
        "            # tokenize each separately\n",
        "    t_doc = tokenizer(x['document'])\n",
        "    t_sum = tokenizer(x['summary'])\n",
        "    tokens_doc.update(t_doc)\n",
        "    tokens_sum.update(t_sum)\n",
        "    x['document'] = t_doc\n",
        "    x['summary'] = t_sum\n",
        "            # data[i][col] = t\n",
        "            # print(data[i][col])\n",
        "            # tokenized[col].append(t)\n",
        "        # except:\n",
        "        #     continue\n",
        "    # summary and document vocabularies \n",
        "    doc_vocab = vocab(tokens_doc, specials=['<unk>', '<pad>', '<bos>', '<eos>'])\n",
        "    summary_vocab = vocab(tokens_sum, specials=['<unk>', '<pad>', '<bos>', '<eos>'])\n",
        "    return x"
      ],
      "metadata": {
        "id": "rdbLfV8z-XdX"
      },
      "execution_count": 73,
      "outputs": []
    },
    {
      "cell_type": "code",
      "source": [
        "train_data = train_data.map(generate_vocab)"
      ],
      "metadata": {
        "id": "cmZvRlyU8c_f"
      },
      "execution_count": null,
      "outputs": []
    },
    {
      "cell_type": "code",
      "source": [
        "d = pd.DataFrame.from_dict(train_data[:3])"
      ],
      "metadata": {
        "id": "-yER8I-m6-1Z"
      },
      "execution_count": 59,
      "outputs": []
    },
    {
      "cell_type": "code",
      "source": [
        "from datasets import Dataset"
      ],
      "metadata": {
        "id": "G26kaZJd74E7"
      },
      "execution_count": 61,
      "outputs": []
    },
    {
      "cell_type": "code",
      "source": [
        "w = Dataset.from_pandas(d)"
      ],
      "metadata": {
        "id": "vbMpMUGQ7crR"
      },
      "execution_count": 62,
      "outputs": []
    },
    {
      "cell_type": "code",
      "source": [
        "w = w.map(generate_vocab)"
      ],
      "metadata": {
        "colab": {
          "base_uri": "https://localhost:8080/",
          "height": 17,
          "referenced_widgets": [
            "947f633ca1254342b80960726eb79614",
            "d752239daaf941e79d3c69e4ffeb4ba9",
            "9fd1e0dfcde44f26ad5729a3efe3015a",
            "e66049cd293a43a985f319bc4d8f2951",
            "9d10952ecf55409e99f855b1c5ce469b",
            "83c23f665f38425a8beb6426b622b1c0",
            "8d94278fbb1348c092e7e3ff3245be8b",
            "d9c94167ac33482ea5deb6122a2be000",
            "7f6d5cd2f7184c12bd89435226d94110",
            "0a5bbc5730904a86bc52cedd4c7873f3",
            "26d9038fc63b44b191b5c91199dd69d5"
          ]
        },
        "id": "y9Ak8vRv3EzQ",
        "outputId": "fa5fed96-29ab-4020-9243-989625cc1d26"
      },
      "execution_count": 69,
      "outputs": [
        {
          "output_type": "display_data",
          "data": {
            "text/plain": [
              "Map:   0%|          | 0/3 [00:00<?, ? examples/s]"
            ],
            "application/vnd.jupyter.widget-view+json": {
              "version_major": 2,
              "version_minor": 0,
              "model_id": "947f633ca1254342b80960726eb79614"
            }
          },
          "metadata": {}
        }
      ]
    },
    {
      "cell_type": "code",
      "source": [
        "w[0]"
      ],
      "metadata": {
        "id": "gnbfAKDu79dR"
      },
      "execution_count": null,
      "outputs": []
    },
    {
      "cell_type": "code",
      "source": [
        "# seperate vocab for summaries\n",
        "summary_vocab = generate_vocab(train_data, 'summary')"
      ],
      "metadata": {
        "colab": {
          "base_uri": "https://localhost:8080/"
        },
        "id": "imz5WGYfU17O",
        "outputId": "c419258e-32e7-4bdd-d1cc-88181cd2eaea"
      },
      "execution_count": 40,
      "outputs": [
        {
          "output_type": "stream",
          "name": "stdout",
          "text": [
            "Harry Potter star Daniel Radcliffe gets £20M fortune as he turns 18 Monday . Young actor says he has no plans to fritter his cash away . Radcliffe's earnings from first five Potter films have been held in trust fund .\n",
            "Mentally ill inmates in Miami are housed on the \"forgotten floor\" Judge Steven Leifman says most are there as a result of \"avoidable felonies\" While CNN tours facility, patient shouts: \"I am the son of the president\" Leifman says the system is unjust and he's fighting for change .\n"
          ]
        }
      ]
    },
    {
      "cell_type": "code",
      "source": [
        "data[1]['summary']"
      ],
      "metadata": {
        "colab": {
          "base_uri": "https://localhost:8080/",
          "height": 88
        },
        "id": "9CVLNls8yZkb",
        "outputId": "20b6c7a4-8594-4e8a-f29d-ba69d6604d3f"
      },
      "execution_count": 36,
      "outputs": [
        {
          "output_type": "execute_result",
          "data": {
            "text/plain": [
              "'Mentally ill inmates in Miami are housed on the \"forgotten floor\" Judge Steven Leifman says most are there as a result of \"avoidable felonies\" While CNN tours facility, patient shouts: \"I am the son of the president\" Leifman says the system is unjust and he\\'s fighting for change .'"
            ],
            "application/vnd.google.colaboratory.intrinsic+json": {
              "type": "string"
            }
          },
          "metadata": {},
          "execution_count": 36
        }
      ]
    },
    {
      "cell_type": "code",
      "source": [
        "doc_vocab = generate_tokens(train_data, 'document')"
      ],
      "metadata": {
        "id": "qjjovIwyfD0D"
      },
      "execution_count": 24,
      "outputs": []
    },
    {
      "cell_type": "code",
      "source": [],
      "metadata": {
        "id": "pnUJRr4fwogU"
      },
      "execution_count": null,
      "outputs": []
    },
    {
      "cell_type": "code",
      "source": [
        "train_data[0]"
      ],
      "metadata": {
        "id": "0uQItRo3XYYF"
      },
      "execution_count": null,
      "outputs": []
    },
    {
      "cell_type": "code",
      "source": [],
      "metadata": {
        "id": "cjF0jpE0w6jj"
      },
      "execution_count": null,
      "outputs": []
    },
    {
      "cell_type": "code",
      "source": [
        "from google.colab import drive\n",
        "drive.mount('/content/gdrive')"
      ],
      "metadata": {
        "colab": {
          "base_uri": "https://localhost:8080/"
        },
        "id": "9hnZXOX6XbfA",
        "outputId": "1d94eed8-45d2-44d1-bbcd-b79ab55bed74"
      },
      "execution_count": 80,
      "outputs": [
        {
          "output_type": "stream",
          "name": "stdout",
          "text": [
            "Drive already mounted at /content/gdrive; to attempt to forcibly remount, call drive.mount(\"/content/gdrive\", force_remount=True).\n"
          ]
        }
      ]
    },
    {
      "cell_type": "code",
      "source": [
        "'/content/gdrive/My Drive/CSC413/A2/tokenized_doc.csv'"
      ],
      "metadata": {
        "id": "jVKuCVHvXn6v"
      },
      "execution_count": null,
      "outputs": []
    },
    {
      "cell_type": "code",
      "source": [
        "doc_vocab.get_stoi()['LONDON']"
      ],
      "metadata": {
        "colab": {
          "base_uri": "https://localhost:8080/"
        },
        "id": "DTgjOPMvSKC_",
        "outputId": "902e0d48-0f0a-48c8-b2ca-9ae509570313"
      },
      "execution_count": 40,
      "outputs": [
        {
          "output_type": "execute_result",
          "data": {
            "text/plain": [
              "4"
            ]
          },
          "metadata": {},
          "execution_count": 40
        }
      ]
    },
    {
      "cell_type": "code",
      "source": [
        "# tokenize train data into document tokens and summary tokens\n",
        "# merge into one dictionary\n",
        "# get glove embeddings for each word\n",
        "# Convert to tensors\n",
        "# attach positional encodings\n",
        "# Feed embeddings to encoder\n",
        "\n"
      ],
      "metadata": {
        "id": "9Cs8h9osO13d"
      },
      "execution_count": 67,
      "outputs": []
    },
    {
      "cell_type": "code",
      "source": [
        "device = torch.device('cuda' if torch.cuda.is_available() else 'cpu')"
      ],
      "metadata": {
        "id": "Jw3g87uQjLo-"
      },
      "execution_count": 26,
      "outputs": []
    }
  ]
}